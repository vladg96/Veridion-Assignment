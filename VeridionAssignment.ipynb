{
 "cells": [
  {
   "cell_type": "code",
   "execution_count": 41,
   "id": "71f32b13-c542-4b50-929d-7314fd5fbee2",
   "metadata": {},
   "outputs": [
    {
     "data": {
      "text/html": [
       "<div>\n",
       "<style scoped>\n",
       "    .dataframe tbody tr th:only-of-type {\n",
       "        vertical-align: middle;\n",
       "    }\n",
       "\n",
       "    .dataframe tbody tr th {\n",
       "        vertical-align: top;\n",
       "    }\n",
       "\n",
       "    .dataframe thead th {\n",
       "        text-align: right;\n",
       "    }\n",
       "</style>\n",
       "<table border=\"1\" class=\"dataframe\">\n",
       "  <thead>\n",
       "    <tr style=\"text-align: right;\">\n",
       "      <th></th>\n",
       "      <th>domain</th>\n",
       "      <th>address</th>\n",
       "      <th>categories</th>\n",
       "      <th>city</th>\n",
       "      <th>country_code</th>\n",
       "      <th>country_name</th>\n",
       "      <th>description</th>\n",
       "      <th>email</th>\n",
       "      <th>link</th>\n",
       "      <th>name</th>\n",
       "      <th>page_type</th>\n",
       "      <th>phone</th>\n",
       "      <th>phone_country_code</th>\n",
       "      <th>region_code</th>\n",
       "      <th>region_name</th>\n",
       "      <th>zip_code</th>\n",
       "    </tr>\n",
       "  </thead>\n",
       "  <tbody>\n",
       "    <tr>\n",
       "      <th>0</th>\n",
       "      <td>euro-hygiene-34.fr</td>\n",
       "      <td>134 rue entrepreneurs, za du vigné, 30420, cal...</td>\n",
       "      <td>NaN</td>\n",
       "      <td>calvisson</td>\n",
       "      <td>fr</td>\n",
       "      <td>france</td>\n",
       "      <td>NaN</td>\n",
       "      <td>NaN</td>\n",
       "      <td>https://euro-hygiene-34.fr</td>\n",
       "      <td>Euro Hygiène</td>\n",
       "      <td>LocalBusiness</td>\n",
       "      <td>NaN</td>\n",
       "      <td>NaN</td>\n",
       "      <td>occ</td>\n",
       "      <td>occitanie</td>\n",
       "      <td>30420</td>\n",
       "    </tr>\n",
       "    <tr>\n",
       "      <th>1</th>\n",
       "      <td>lakesidehomeservices.ca</td>\n",
       "      <td>NaN</td>\n",
       "      <td>Appliance Repair &amp; Maintenance|Home Builders &amp;...</td>\n",
       "      <td>NaN</td>\n",
       "      <td>ca</td>\n",
       "      <td>NaN</td>\n",
       "      <td>NaN</td>\n",
       "      <td>NaN</td>\n",
       "      <td>https://lakesidehomeservices.ca</td>\n",
       "      <td>Lakeside Home Services</td>\n",
       "      <td>LocalBusiness</td>\n",
       "      <td>1.613832e+10</td>\n",
       "      <td>ca</td>\n",
       "      <td>NaN</td>\n",
       "      <td>NaN</td>\n",
       "      <td>NaN</td>\n",
       "    </tr>\n",
       "    <tr>\n",
       "      <th>2</th>\n",
       "      <td>rossiterboats.com</td>\n",
       "      <td>NaN</td>\n",
       "      <td>Boats &amp; Yachts Dealers|Boat Tours &amp; Cruises</td>\n",
       "      <td>NaN</td>\n",
       "      <td>NaN</td>\n",
       "      <td>NaN</td>\n",
       "      <td>At Rossiter Boats we build semi-custom power b...</td>\n",
       "      <td>info@rossiterboats.com</td>\n",
       "      <td>http://rossiterboats.com</td>\n",
       "      <td>Rossiter Boats</td>\n",
       "      <td>LocalBusiness</td>\n",
       "      <td>NaN</td>\n",
       "      <td>NaN</td>\n",
       "      <td>NaN</td>\n",
       "      <td>NaN</td>\n",
       "      <td>NaN</td>\n",
       "    </tr>\n",
       "    <tr>\n",
       "      <th>3</th>\n",
       "      <td>caa-architecture.com</td>\n",
       "      <td>601 cordova st w # 270, v6b 1g1, vancouver, bc...</td>\n",
       "      <td>Architects &amp; Architectural Services|Other Engi...</td>\n",
       "      <td>vancouver</td>\n",
       "      <td>ca</td>\n",
       "      <td>canada</td>\n",
       "      <td>NaN</td>\n",
       "      <td>office@caa-arcitecture.com</td>\n",
       "      <td>http://caa-architecture.com</td>\n",
       "      <td>Chandler Associates Architecture Inc.</td>\n",
       "      <td>LocalBusiness</td>\n",
       "      <td>1.604687e+10</td>\n",
       "      <td>ca</td>\n",
       "      <td>bc</td>\n",
       "      <td>british columbia</td>\n",
       "      <td>v6b 1g1</td>\n",
       "    </tr>\n",
       "    <tr>\n",
       "      <th>4</th>\n",
       "      <td>apexsurety.ca</td>\n",
       "      <td>unit 3 - 4 donald street, r3l 2t7, winnipeg, m...</td>\n",
       "      <td>NaN</td>\n",
       "      <td>winnipeg</td>\n",
       "      <td>ca</td>\n",
       "      <td>canada</td>\n",
       "      <td>NaN</td>\n",
       "      <td>NaN</td>\n",
       "      <td>https://apexsurety.ca</td>\n",
       "      <td>Apex Surety &amp; Insurance Ltd.</td>\n",
       "      <td>LocalBusiness</td>\n",
       "      <td>1.204560e+10</td>\n",
       "      <td>ca</td>\n",
       "      <td>mb</td>\n",
       "      <td>manitoba</td>\n",
       "      <td>r3l 2t7</td>\n",
       "    </tr>\n",
       "  </tbody>\n",
       "</table>\n",
       "</div>"
      ],
      "text/plain": [
       "                    domain                                            address  \\\n",
       "0       euro-hygiene-34.fr  134 rue entrepreneurs, za du vigné, 30420, cal...   \n",
       "1  lakesidehomeservices.ca                                                NaN   \n",
       "2        rossiterboats.com                                                NaN   \n",
       "3     caa-architecture.com  601 cordova st w # 270, v6b 1g1, vancouver, bc...   \n",
       "4            apexsurety.ca  unit 3 - 4 donald street, r3l 2t7, winnipeg, m...   \n",
       "\n",
       "                                          categories       city country_code  \\\n",
       "0                                                NaN  calvisson           fr   \n",
       "1  Appliance Repair & Maintenance|Home Builders &...        NaN           ca   \n",
       "2        Boats & Yachts Dealers|Boat Tours & Cruises        NaN          NaN   \n",
       "3  Architects & Architectural Services|Other Engi...  vancouver           ca   \n",
       "4                                                NaN   winnipeg           ca   \n",
       "\n",
       "  country_name                                        description  \\\n",
       "0       france                                                NaN   \n",
       "1          NaN                                                NaN   \n",
       "2          NaN  At Rossiter Boats we build semi-custom power b...   \n",
       "3       canada                                                NaN   \n",
       "4       canada                                                NaN   \n",
       "\n",
       "                        email                             link  \\\n",
       "0                         NaN       https://euro-hygiene-34.fr   \n",
       "1                         NaN  https://lakesidehomeservices.ca   \n",
       "2      info@rossiterboats.com         http://rossiterboats.com   \n",
       "3  office@caa-arcitecture.com      http://caa-architecture.com   \n",
       "4                         NaN            https://apexsurety.ca   \n",
       "\n",
       "                                    name      page_type         phone  \\\n",
       "0                           Euro Hygiène  LocalBusiness           NaN   \n",
       "1                 Lakeside Home Services  LocalBusiness  1.613832e+10   \n",
       "2                         Rossiter Boats  LocalBusiness           NaN   \n",
       "3  Chandler Associates Architecture Inc.  LocalBusiness  1.604687e+10   \n",
       "4           Apex Surety & Insurance Ltd.  LocalBusiness  1.204560e+10   \n",
       "\n",
       "  phone_country_code region_code       region_name zip_code  \n",
       "0                NaN         occ         occitanie    30420  \n",
       "1                 ca         NaN               NaN      NaN  \n",
       "2                NaN         NaN               NaN      NaN  \n",
       "3                 ca          bc  british columbia  v6b 1g1  \n",
       "4                 ca          mb          manitoba  r3l 2t7  "
      ]
     },
     "execution_count": 41,
     "metadata": {},
     "output_type": "execute_result"
    }
   ],
   "source": [
    "import pandas as pd\n",
    "\n",
    "# Load the Facebook dataset\n",
    "facebook_file_path = '/Users/vladgarau/Downloads/datasets/facebook_dataset.csv' \n",
    "facebook_data = pd.read_csv(facebook_file_path, on_bad_lines='skip')  # Skipping bad lines if any\n",
    "\n",
    "# Display the first few rows to inspect the dataset\n",
    "facebook_data.head()\n"
   ]
  },
  {
   "cell_type": "code",
   "execution_count": 42,
   "id": "e4c92eac-23c2-4f22-8eda-f3b6af5cc783",
   "metadata": {},
   "outputs": [],
   "source": [
    "# Standardize country and region names to lowercase and strip extra spaces\n",
    "facebook_data['country_name'] = facebook_data['country_name'].str.lower().str.strip()\n",
    "facebook_data['region_name'] = facebook_data['region_name'].str.lower().str.strip()\n"
   ]
  },
  {
   "cell_type": "code",
   "execution_count": 43,
   "id": "934da9f7-c736-4882-b036-8d5bc84ebfb7",
   "metadata": {},
   "outputs": [],
   "source": [
    "# Convert phone numbers to string and remove scientific notation if present\n",
    "facebook_data['phone'] = facebook_data['phone'].apply(lambda x: str(int(x)) if not pd.isnull(x) else '')\n"
   ]
  },
  {
   "cell_type": "code",
   "execution_count": 47,
   "id": "1150e194-8fc3-497b-866c-2551b79ac83c",
   "metadata": {},
   "outputs": [
    {
     "data": {
      "text/plain": [
       "domain                    0\n",
       "address                   0\n",
       "categories                0\n",
       "city                  26600\n",
       "country_code          13976\n",
       "country_name          26302\n",
       "description           43978\n",
       "email                 51414\n",
       "link                      0\n",
       "name                      0\n",
       "page_type                 4\n",
       "phone                     0\n",
       "phone_country_code    33616\n",
       "region_code           26605\n",
       "region_name           26605\n",
       "zip_code              35544\n",
       "dtype: int64"
      ]
     },
     "execution_count": 47,
     "metadata": {},
     "output_type": "execute_result"
    }
   ],
   "source": [
    "# Fill missing values and assign them back to the original DataFrame\n",
    "facebook_data['name'] = facebook_data['name'].fillna('Unknown')\n",
    "facebook_data['address'] = facebook_data['address'].fillna('Unknown')\n",
    "facebook_data['categories'] = facebook_data['categories'].fillna('Unknown')\n",
    "\n",
    "# Check if missing values are handled\n",
    "facebook_data.isnull().sum()  # This will show how many missing values are left in each column"
   ]
  },
  {
   "cell_type": "code",
   "execution_count": 48,
   "id": "a3d2e003-6e5f-499a-b38a-be5efb7e924d",
   "metadata": {},
   "outputs": [],
   "source": [
    "# Save the cleaned dataset to a new CSV\n",
    "facebook_data.to_csv('/Users/vladgarau/Downloads/datasets/facebook_cleaned.csv', index=False) \n"
   ]
  },
  {
   "cell_type": "code",
   "execution_count": 51,
   "id": "93276a31-efcd-4d15-888a-ab0005ed4826",
   "metadata": {},
   "outputs": [
    {
     "data": {
      "text/html": [
       "<div>\n",
       "<style scoped>\n",
       "    .dataframe tbody tr th:only-of-type {\n",
       "        vertical-align: middle;\n",
       "    }\n",
       "\n",
       "    .dataframe tbody tr th {\n",
       "        vertical-align: top;\n",
       "    }\n",
       "\n",
       "    .dataframe thead th {\n",
       "        text-align: right;\n",
       "    }\n",
       "</style>\n",
       "<table border=\"1\" class=\"dataframe\">\n",
       "  <thead>\n",
       "    <tr style=\"text-align: right;\">\n",
       "      <th></th>\n",
       "      <th>address</th>\n",
       "      <th>category</th>\n",
       "      <th>city</th>\n",
       "      <th>country_code</th>\n",
       "      <th>country_name</th>\n",
       "      <th>name</th>\n",
       "      <th>phone</th>\n",
       "      <th>phone_country_code</th>\n",
       "      <th>raw_address</th>\n",
       "      <th>raw_phone</th>\n",
       "      <th>region_code</th>\n",
       "      <th>region_name</th>\n",
       "      <th>text</th>\n",
       "      <th>zip_code</th>\n",
       "      <th>domain</th>\n",
       "    </tr>\n",
       "  </thead>\n",
       "  <tbody>\n",
       "    <tr>\n",
       "      <th>0</th>\n",
       "      <td>28 Central Coast Hwy, West Gosford NSW 2250, A...</td>\n",
       "      <td>Fabric-Based Home Goods</td>\n",
       "      <td>gosford</td>\n",
       "      <td>au</td>\n",
       "      <td>australia</td>\n",
       "      <td>Spotlight West Gosford</td>\n",
       "      <td>+61243355946</td>\n",
       "      <td>au</td>\n",
       "      <td>West Gosford NSW, Australia</td>\n",
       "      <td>+61 2 4335 5946</td>\n",
       "      <td>nsw</td>\n",
       "      <td>new south wales</td>\n",
       "      <td>4.1 (766) · Craft store West Gosford NSW, Aust...</td>\n",
       "      <td>2250</td>\n",
       "      <td>spotlightstores.com</td>\n",
       "    </tr>\n",
       "    <tr>\n",
       "      <th>1</th>\n",
       "      <td>400 Scott St, St. Catharines, ON L2M 3W2, Canada</td>\n",
       "      <td>Book Stores</td>\n",
       "      <td>st. catharines</td>\n",
       "      <td>ca</td>\n",
       "      <td>canada</td>\n",
       "      <td>Heritage Christian Book Store</td>\n",
       "      <td>+19059374553</td>\n",
       "      <td>ca</td>\n",
       "      <td>400 Scott St · In Grantham Plaza</td>\n",
       "      <td>+1 905-937-4553</td>\n",
       "      <td>on</td>\n",
       "      <td>ontario</td>\n",
       "      <td>4.7 (100) · Book store 400 Scott St · In Grant...</td>\n",
       "      <td>l2m 3w2</td>\n",
       "      <td>bookmanager.com</td>\n",
       "    </tr>\n",
       "    <tr>\n",
       "      <th>2</th>\n",
       "      <td>191 Pleasant St, Yarmouth, NS B5A 2J9, Canada</td>\n",
       "      <td>Other Building Material Retailers</td>\n",
       "      <td>yarmouth</td>\n",
       "      <td>ca</td>\n",
       "      <td>canada</td>\n",
       "      <td>Pleasant Timber Mart</td>\n",
       "      <td>+19027429181</td>\n",
       "      <td>ca</td>\n",
       "      <td>7+ years in business · Yarmouth, NS, Canada</td>\n",
       "      <td>+1 902-742-9181</td>\n",
       "      <td>ns</td>\n",
       "      <td>nova scotia</td>\n",
       "      <td>4.7 (40) · Building materials store 7+ years i...</td>\n",
       "      <td>b5a 2j9</td>\n",
       "      <td>timbermart.ca</td>\n",
       "    </tr>\n",
       "    <tr>\n",
       "      <th>3</th>\n",
       "      <td>11040 Santa Monica Blvd Suite 370, Los Angeles...</td>\n",
       "      <td>Plastic Surgery Clinics</td>\n",
       "      <td>los angeles</td>\n",
       "      <td>us</td>\n",
       "      <td>united states</td>\n",
       "      <td>Skin Specifics Medical Spa West LA</td>\n",
       "      <td>+18184268353</td>\n",
       "      <td>us</td>\n",
       "      <td>7+ years in business · 11040 Santa Monica Blvd...</td>\n",
       "      <td>+1 818-426-8353</td>\n",
       "      <td>ca</td>\n",
       "      <td>california</td>\n",
       "      <td>4.3 (15) · Medical spa 7+ years in business · ...</td>\n",
       "      <td>90025</td>\n",
       "      <td>linktr.ee</td>\n",
       "    </tr>\n",
       "    <tr>\n",
       "      <th>4</th>\n",
       "      <td>NaN</td>\n",
       "      <td>Catering &amp; Delivery</td>\n",
       "      <td>NaN</td>\n",
       "      <td>NaN</td>\n",
       "      <td>NaN</td>\n",
       "      <td>Lakay express</td>\n",
       "      <td>NaN</td>\n",
       "      <td>NaN</td>\n",
       "      <td>NaN</td>\n",
       "      <td>NaN</td>\n",
       "      <td>NaN</td>\n",
       "      <td>NaN</td>\n",
       "      <td>5.0 (1) · Mobile caterer Open ⋅ Closes 9PM</td>\n",
       "      <td>NaN</td>\n",
       "      <td>linktr.ee</td>\n",
       "    </tr>\n",
       "  </tbody>\n",
       "</table>\n",
       "</div>"
      ],
      "text/plain": [
       "                                             address  \\\n",
       "0  28 Central Coast Hwy, West Gosford NSW 2250, A...   \n",
       "1   400 Scott St, St. Catharines, ON L2M 3W2, Canada   \n",
       "2      191 Pleasant St, Yarmouth, NS B5A 2J9, Canada   \n",
       "3  11040 Santa Monica Blvd Suite 370, Los Angeles...   \n",
       "4                                                NaN   \n",
       "\n",
       "                            category            city country_code  \\\n",
       "0            Fabric-Based Home Goods         gosford           au   \n",
       "1                        Book Stores  st. catharines           ca   \n",
       "2  Other Building Material Retailers        yarmouth           ca   \n",
       "3            Plastic Surgery Clinics     los angeles           us   \n",
       "4                Catering & Delivery             NaN          NaN   \n",
       "\n",
       "    country_name                                name         phone  \\\n",
       "0      australia              Spotlight West Gosford  +61243355946   \n",
       "1         canada       Heritage Christian Book Store  +19059374553   \n",
       "2         canada                Pleasant Timber Mart  +19027429181   \n",
       "3  united states  Skin Specifics Medical Spa West LA  +18184268353   \n",
       "4            NaN                       Lakay express           NaN   \n",
       "\n",
       "  phone_country_code                                        raw_address  \\\n",
       "0                 au                        West Gosford NSW, Australia   \n",
       "1                 ca                   400 Scott St · In Grantham Plaza   \n",
       "2                 ca        7+ years in business · Yarmouth, NS, Canada   \n",
       "3                 us  7+ years in business · 11040 Santa Monica Blvd...   \n",
       "4                NaN                                                NaN   \n",
       "\n",
       "         raw_phone region_code      region_name  \\\n",
       "0  +61 2 4335 5946         nsw  new south wales   \n",
       "1  +1 905-937-4553          on          ontario   \n",
       "2  +1 902-742-9181          ns      nova scotia   \n",
       "3  +1 818-426-8353          ca       california   \n",
       "4              NaN         NaN              NaN   \n",
       "\n",
       "                                                text zip_code  \\\n",
       "0  4.1 (766) · Craft store West Gosford NSW, Aust...     2250   \n",
       "1  4.7 (100) · Book store 400 Scott St · In Grant...  l2m 3w2   \n",
       "2  4.7 (40) · Building materials store 7+ years i...  b5a 2j9   \n",
       "3  4.3 (15) · Medical spa 7+ years in business · ...    90025   \n",
       "4         5.0 (1) · Mobile caterer Open ⋅ Closes 9PM      NaN   \n",
       "\n",
       "                domain  \n",
       "0  spotlightstores.com  \n",
       "1      bookmanager.com  \n",
       "2        timbermart.ca  \n",
       "3            linktr.ee  \n",
       "4            linktr.ee  "
      ]
     },
     "execution_count": 51,
     "metadata": {},
     "output_type": "execute_result"
    }
   ],
   "source": [
    "# Load the Google dataset\n",
    "google_file_path = '/Users/vladgarau/Downloads/datasets/google_dataset.csv'\n",
    "google_data = pd.read_csv(google_file_path, on_bad_lines='skip', low_memory=False)\n",
    "\n",
    "# Display the first few rows to inspect the dataset\n",
    "google_data.head()"
   ]
  },
  {
   "cell_type": "code",
   "execution_count": 52,
   "id": "188acd51-5924-4d38-b6e8-dbb298721a51",
   "metadata": {},
   "outputs": [
    {
     "data": {
      "text/plain": [
       "name\n",
       "<class 'str'>      346893\n",
       "<class 'float'>        32\n",
       "Name: count, dtype: int64"
      ]
     },
     "execution_count": 52,
     "metadata": {},
     "output_type": "execute_result"
    }
   ],
   "source": [
    "# Display unique values and their types in the problematic column (index 5 in zero-based indexing)\n",
    "google_data.iloc[:, 5].apply(type).value_counts()\n"
   ]
  },
  {
   "cell_type": "code",
   "execution_count": 53,
   "id": "2a6caefb-c4d9-46db-af91-43a374c0e876",
   "metadata": {},
   "outputs": [],
   "source": [
    "# Convert the column to numeric, forcing errors to be set as NaN (Not a Number)\n",
    "google_data.iloc[:, 5] = pd.to_numeric(google_data.iloc[:, 5], errors='coerce')\n"
   ]
  },
  {
   "cell_type": "code",
   "execution_count": 54,
   "id": "0eba720d-dfdb-447b-abed-11babf3db02a",
   "metadata": {},
   "outputs": [],
   "source": [
    "# Standardize country and region names to lowercase and strip extra spaces\n",
    "google_data['country_name'] = google_data['country_name'].str.lower().str.strip()\n",
    "google_data['region_name'] = google_data['region_name'].str.lower().str.strip()\n"
   ]
  },
  {
   "cell_type": "code",
   "execution_count": 55,
   "id": "5dbcd980-d1dd-4ee4-bb49-761489df7ebb",
   "metadata": {},
   "outputs": [],
   "source": [
    "# Clean both 'phone' and 'raw_phone' columns by removing spaces, plus signs, and dashes\n",
    "google_data['phone'] = google_data['phone'].apply(lambda x: str(x).replace(' ', '').replace('+', '').replace('-', '') if not pd.isnull(x) else '')\n",
    "google_data['raw_phone'] = google_data['raw_phone'].apply(lambda x: str(x).replace(' ', '').replace('+', '').replace('-', '') if not pd.isnull(x) else '')\n"
   ]
  },
  {
   "cell_type": "code",
   "execution_count": 57,
   "id": "0216b52c-bb6d-4f06-b1da-b0f3902d5ade",
   "metadata": {},
   "outputs": [
    {
     "data": {
      "text/plain": [
       "address                    0\n",
       "category                   0\n",
       "city                   44726\n",
       "country_code           51564\n",
       "country_name           44690\n",
       "name                       0\n",
       "phone                      0\n",
       "phone_country_code    112821\n",
       "raw_address            44016\n",
       "raw_phone                  0\n",
       "region_code            44876\n",
       "region_name            44871\n",
       "text                    3514\n",
       "zip_code               81279\n",
       "domain                     2\n",
       "dtype: int64"
      ]
     },
     "execution_count": 57,
     "metadata": {},
     "output_type": "execute_result"
    }
   ],
   "source": [
    "# Fill missing values and assign them back to the original DataFrame\n",
    "google_data['name'] = google_data['name'].fillna('Unknown')\n",
    "google_data['address'] = google_data['address'].fillna('Unknown')\n",
    "google_data['category'] = google_data['category'].fillna('Unknown')\n",
    "\n",
    "# Check if missing values are handled\n",
    "google_data.isnull().sum()  # This will show how many missing values are left in each column"
   ]
  },
  {
   "cell_type": "code",
   "execution_count": 58,
   "id": "1658ef92-c593-4073-8de9-88bc90c962f3",
   "metadata": {},
   "outputs": [],
   "source": [
    "# Save the cleaned dataset to a new CSV\n",
    "google_data.to_csv('/Users/vladgarau/Downloads/datasets/google_cleaned.csv', index=False) \n"
   ]
  },
  {
   "cell_type": "code",
   "execution_count": 59,
   "id": "d1da9bdf-37ee-455d-8fed-6a2db9e53007",
   "metadata": {},
   "outputs": [
    {
     "data": {
      "text/html": [
       "<div>\n",
       "<style scoped>\n",
       "    .dataframe tbody tr th:only-of-type {\n",
       "        vertical-align: middle;\n",
       "    }\n",
       "\n",
       "    .dataframe tbody tr th {\n",
       "        vertical-align: top;\n",
       "    }\n",
       "\n",
       "    .dataframe thead th {\n",
       "        text-align: right;\n",
       "    }\n",
       "</style>\n",
       "<table border=\"1\" class=\"dataframe\">\n",
       "  <thead>\n",
       "    <tr style=\"text-align: right;\">\n",
       "      <th></th>\n",
       "      <th>root_domain</th>\n",
       "      <th>domain_suffix</th>\n",
       "      <th>language</th>\n",
       "      <th>legal_name</th>\n",
       "      <th>main_city</th>\n",
       "      <th>main_country</th>\n",
       "      <th>main_region</th>\n",
       "      <th>phone</th>\n",
       "      <th>site_name</th>\n",
       "      <th>tld</th>\n",
       "      <th>s_category</th>\n",
       "    </tr>\n",
       "  </thead>\n",
       "  <tbody>\n",
       "    <tr>\n",
       "      <th>0</th>\n",
       "      <td>converterman.com</td>\n",
       "      <td>NaN</td>\n",
       "      <td>NaN</td>\n",
       "      <td>NaN</td>\n",
       "      <td>NaN</td>\n",
       "      <td>NaN</td>\n",
       "      <td>NaN</td>\n",
       "      <td>NaN</td>\n",
       "      <td>NaN</td>\n",
       "      <td>NaN</td>\n",
       "      <td>NaN</td>\n",
       "    </tr>\n",
       "    <tr>\n",
       "      <th>1</th>\n",
       "      <td>clothesencounter.ca</td>\n",
       "      <td>ca</td>\n",
       "      <td>en</td>\n",
       "      <td>NaN</td>\n",
       "      <td>cardigan</td>\n",
       "      <td>canada</td>\n",
       "      <td>prince edward island</td>\n",
       "      <td>13066937766</td>\n",
       "      <td>Clothes Encounter</td>\n",
       "      <td>ca</td>\n",
       "      <td>Shoes &amp; Other Footwear Stores</td>\n",
       "    </tr>\n",
       "    <tr>\n",
       "      <th>2</th>\n",
       "      <td>investa.com.au</td>\n",
       "      <td>com.au</td>\n",
       "      <td>en</td>\n",
       "      <td>Investa Wholesale Funds Management Limited</td>\n",
       "      <td>brisbane</td>\n",
       "      <td>australia</td>\n",
       "      <td>queensland</td>\n",
       "      <td>61282269300</td>\n",
       "      <td>Investa Property Group</td>\n",
       "      <td>au</td>\n",
       "      <td>Real Estate Developers</td>\n",
       "    </tr>\n",
       "    <tr>\n",
       "      <th>3</th>\n",
       "      <td>timminsgarage.com</td>\n",
       "      <td>com</td>\n",
       "      <td>en</td>\n",
       "      <td>Timmins Garage Inc.</td>\n",
       "      <td>timmins</td>\n",
       "      <td>canada</td>\n",
       "      <td>ontario</td>\n",
       "      <td>18775896640</td>\n",
       "      <td>Timmins Garage</td>\n",
       "      <td>com</td>\n",
       "      <td>Automobile Dealers &amp; Manufacturers</td>\n",
       "    </tr>\n",
       "    <tr>\n",
       "      <th>4</th>\n",
       "      <td>destinate.ca</td>\n",
       "      <td>ca</td>\n",
       "      <td>en</td>\n",
       "      <td>Destinate Group Ltd.</td>\n",
       "      <td>NaN</td>\n",
       "      <td>Canada</td>\n",
       "      <td>NaN</td>\n",
       "      <td>NaN</td>\n",
       "      <td>Destinate Group</td>\n",
       "      <td>ca</td>\n",
       "      <td>Business Consulting</td>\n",
       "    </tr>\n",
       "  </tbody>\n",
       "</table>\n",
       "</div>"
      ],
      "text/plain": [
       "           root_domain domain_suffix language  \\\n",
       "0     converterman.com           NaN      NaN   \n",
       "1  clothesencounter.ca            ca       en   \n",
       "2       investa.com.au        com.au       en   \n",
       "3    timminsgarage.com           com       en   \n",
       "4         destinate.ca            ca       en   \n",
       "\n",
       "                                   legal_name main_city main_country  \\\n",
       "0                                         NaN       NaN          NaN   \n",
       "1                                         NaN  cardigan       canada   \n",
       "2  Investa Wholesale Funds Management Limited  brisbane    australia   \n",
       "3                         Timmins Garage Inc.   timmins       canada   \n",
       "4                        Destinate Group Ltd.       NaN       Canada   \n",
       "\n",
       "            main_region        phone               site_name  tld  \\\n",
       "0                   NaN          NaN                     NaN  NaN   \n",
       "1  prince edward island  13066937766       Clothes Encounter   ca   \n",
       "2            queensland  61282269300  Investa Property Group   au   \n",
       "3               ontario  18775896640          Timmins Garage  com   \n",
       "4                   NaN          NaN         Destinate Group   ca   \n",
       "\n",
       "                           s_category  \n",
       "0                                 NaN  \n",
       "1       Shoes & Other Footwear Stores  \n",
       "2              Real Estate Developers  \n",
       "3  Automobile Dealers & Manufacturers  \n",
       "4                 Business Consulting  "
      ]
     },
     "execution_count": 59,
     "metadata": {},
     "output_type": "execute_result"
    }
   ],
   "source": [
    "# Load the Website dataset (assuming semicolon as the delimiter)\n",
    "website_file_path = '/Users/vladgarau/Downloads/datasets/website_dataset.csv'\n",
    "website_data = pd.read_csv(website_file_path, sep=';')\n",
    "\n",
    "# Display the first few rows to inspect the dataset\n",
    "website_data.head()"
   ]
  },
  {
   "cell_type": "code",
   "execution_count": 60,
   "id": "cabb03f9-88f8-4ab9-ae2a-2e5f6415bd80",
   "metadata": {},
   "outputs": [],
   "source": [
    "# Standardize country and region names to lowercase and strip extra spaces\n",
    "website_data['main_country'] = website_data['main_country'].str.lower().str.strip()\n",
    "website_data['main_region'] = website_data['main_region'].str.lower().str.strip()"
   ]
  },
  {
   "cell_type": "code",
   "execution_count": 61,
   "id": "77852eef-11eb-48dd-ae8f-b02890f14ce8",
   "metadata": {},
   "outputs": [],
   "source": [
    "# Clean phone numbers by removing non-numeric characters\n",
    "website_data['phone'] = website_data['phone'].astype(str).str.replace(r'\\D', '', regex=True)"
   ]
  },
  {
   "cell_type": "code",
   "execution_count": 62,
   "id": "f7c8bff1-6bad-441b-ac34-b7890aeb2f2e",
   "metadata": {},
   "outputs": [
    {
     "data": {
      "text/plain": [
       "root_domain          1\n",
       "domain_suffix      118\n",
       "language          5192\n",
       "legal_name           0\n",
       "main_city            0\n",
       "main_country      7149\n",
       "main_region      11085\n",
       "phone                0\n",
       "site_name         3304\n",
       "tld                261\n",
       "s_category           0\n",
       "dtype: int64"
      ]
     },
     "execution_count": 62,
     "metadata": {},
     "output_type": "execute_result"
    }
   ],
   "source": [
    "# Fill missing values and assign them back to the original DataFrame\n",
    "website_data['legal_name'] = website_data['legal_name'].fillna('Unknown')\n",
    "website_data['main_city'] = website_data['main_city'].fillna('Unknown')\n",
    "website_data['s_category'] = website_data['s_category'].fillna('Unknown')\n",
    "\n",
    "# Check if missing values are handled\n",
    "website_data.isnull().sum()  # This will show how many missing values are left in each column"
   ]
  },
  {
   "cell_type": "code",
   "execution_count": 63,
   "id": "770dada7-d178-4d91-af78-fc64b5071299",
   "metadata": {},
   "outputs": [],
   "source": [
    "# Rename columns to match the structure of other datasets\n",
    "website_data.rename(columns={\n",
    "    'root_domain': 'domain',\n",
    "    'legal_name': 'company_name',\n",
    "    'main_country': 'country',\n",
    "    'main_region': 'region',\n",
    "    'main_city': 'city',\n",
    "    's_category': 'category'\n",
    "}, inplace=True)"
   ]
  },
  {
   "cell_type": "code",
   "execution_count": 64,
   "id": "b93b331e-3e5a-4345-afeb-524e971c6adb",
   "metadata": {},
   "outputs": [],
   "source": [
    "# Save the cleaned dataset to a new CSV\n",
    "website_data.to_csv('/Users/vladgarau/Downloads/datasets/website_cleaned.csv', index=False)  "
   ]
  },
  {
   "cell_type": "code",
   "execution_count": 66,
   "id": "e6337fc2-8d98-4f38-99aa-e630217a2c03",
   "metadata": {},
   "outputs": [],
   "source": [
    "import pandas as pd\n",
    "\n",
    "# Load the cleaned datasets \n",
    "facebook_data = pd.read_csv('/Users/vladgarau/Downloads/datasets/facebook_cleaned.csv')\n",
    "google_data = pd.read_csv('/Users/vladgarau/Downloads/datasets/google_cleaned.csv', dtype={6: str})\n",
    "website_data = pd.read_csv('/Users/vladgarau/Downloads/datasets/website_cleaned.csv')"
   ]
  },
  {
   "cell_type": "code",
   "execution_count": 67,
   "id": "8ea7d9f6-bd8f-455e-9ce4-fbfd6547d3f8",
   "metadata": {},
   "outputs": [
    {
     "name": "stdout",
     "output_type": "stream",
     "text": [
      "Index(['domain', 'address', 'categories', 'city', 'country_code',\n",
      "       'country_name', 'description', 'email', 'link', 'name', 'page_type',\n",
      "       'phone', 'phone_country_code', 'region_code', 'region_name',\n",
      "       'zip_code'],\n",
      "      dtype='object')\n",
      "Index(['address', 'category', 'city', 'country_code', 'country_name', 'name',\n",
      "       'phone', 'phone_country_code', 'raw_address', 'raw_phone',\n",
      "       'region_code', 'region_name', 'text', 'zip_code', 'domain'],\n",
      "      dtype='object')\n",
      "Index(['domain', 'domain_suffix', 'language', 'company_name', 'city',\n",
      "       'country', 'region', 'phone', 'site_name', 'tld', 'category'],\n",
      "      dtype='object')\n"
     ]
    }
   ],
   "source": [
    "# Check columns to ensure they're ready for merging\n",
    "print(facebook_data.columns)\n",
    "print(google_data.columns)\n",
    "print(website_data.columns)"
   ]
  },
  {
   "cell_type": "code",
   "execution_count": 69,
   "id": "1f9f120b-7aa9-47f1-ba53-78e2a911f2dd",
   "metadata": {},
   "outputs": [],
   "source": [
    "# Rename columns in the Website dataset to match the others\n",
    "website_data.rename(columns={\n",
    "    'main_country': 'country', \n",
    "    'main_region': 'region', \n",
    "    'main_city': 'city', \n",
    "    's_category': 'category',\n",
    "    'root_domain': 'domain',\n",
    "    'legal_name': 'company_name'\n",
    "}, inplace=True)\n",
    "\n",
    "# Rename columns in the Facebook dataset (if needed)\n",
    "facebook_data.rename(columns={\n",
    "    'country_name': 'country', \n",
    "    'region_name': 'region', \n",
    "    'categories': 'category',\n",
    "    'name': 'company_name'\n",
    "}, inplace=True)\n",
    "\n",
    "# Rename columns in the Google dataset (if needed)\n",
    "google_data.rename(columns={\n",
    "    'country_name': 'country', \n",
    "    'region_name': 'region',\n",
    "    'category': 'category',\n",
    "    'name': 'company_name'\n",
    "}, inplace=True)\n"
   ]
  },
  {
   "cell_type": "code",
   "execution_count": 70,
   "id": "7f22b275-7556-4a01-a377-ea7e720b2127",
   "metadata": {},
   "outputs": [
    {
     "name": "stdout",
     "output_type": "stream",
     "text": [
      "domain                 object\n",
      "address                object\n",
      "category               object\n",
      "city                   object\n",
      "country_code           object\n",
      "country                object\n",
      "description            object\n",
      "email                  object\n",
      "link                   object\n",
      "company_name           object\n",
      "page_type              object\n",
      "phone                 float64\n",
      "phone_country_code     object\n",
      "region_code            object\n",
      "region                 object\n",
      "zip_code               object\n",
      "dtype: object\n",
      "address               object\n",
      "category              object\n",
      "city                  object\n",
      "country_code          object\n",
      "country               object\n",
      "company_name          object\n",
      "phone                 object\n",
      "phone_country_code    object\n",
      "raw_address           object\n",
      "raw_phone             object\n",
      "region_code           object\n",
      "region                object\n",
      "text                  object\n",
      "zip_code              object\n",
      "domain                object\n",
      "dtype: object\n",
      "domain            object\n",
      "domain_suffix     object\n",
      "language          object\n",
      "company_name      object\n",
      "city              object\n",
      "country           object\n",
      "region            object\n",
      "phone            float64\n",
      "site_name         object\n",
      "tld               object\n",
      "category          object\n",
      "dtype: object\n"
     ]
    }
   ],
   "source": [
    "# Check data types for critical columns\n",
    "print(facebook_data.dtypes)\n",
    "print(google_data.dtypes)\n",
    "print(website_data.dtypes)\n",
    "\n",
    "# Ensure the 'domain' column is of type string in all datasets\n",
    "facebook_data['domain'] = facebook_data['domain'].astype(str)\n",
    "google_data['domain'] = google_data['domain'].astype(str)\n",
    "website_data['domain'] = website_data['domain'].astype(str)\n",
    "\n",
    "# Ensure 'phone' column is of type string\n",
    "facebook_data['phone'] = facebook_data['phone'].astype(str)\n",
    "google_data['phone'] = google_data['phone'].astype(str)\n",
    "website_data['phone'] = website_data['phone'].astype(str)\n",
    "\n",
    "# Standardize country names (convert to lowercase, remove spaces) for all datasets\n",
    "facebook_data['country'] = facebook_data['country'].str.lower().str.strip()\n",
    "google_data['country'] = google_data['country'].str.lower().str.strip()\n",
    "website_data['country'] = website_data['country'].str.lower().str.strip()"
   ]
  },
  {
   "cell_type": "code",
   "execution_count": 71,
   "id": "30aa9dfe-d7ff-4f5c-bfef-042dd9e560ab",
   "metadata": {},
   "outputs": [],
   "source": [
    "# Standardize the 'company_name' to remove extra spaces and make lowercase\n",
    "facebook_data['company_name'] = facebook_data['company_name'].str.lower().str.strip()\n",
    "google_data['company_name'] = google_data['company_name'].str.lower().str.strip()\n",
    "website_data['company_name'] = website_data['company_name'].str.lower().str.strip()\n",
    "\n",
    "# For categories, I similarly strip extra spaces and handle multiple categories consistently\n",
    "facebook_data['category'] = facebook_data['category'].str.lower().str.strip()\n",
    "google_data['category'] = google_data['category'].str.lower().str.strip()\n",
    "website_data['category'] = website_data['category'].str.lower().str.strip()"
   ]
  },
  {
   "cell_type": "code",
   "execution_count": 78,
   "id": "eab2832f-be87-41ac-9d98-55b238c16e10",
   "metadata": {},
   "outputs": [
    {
     "name": "stdout",
     "output_type": "stream",
     "text": [
      "Facebook columns:\n",
      " domain                object\n",
      "address               object\n",
      "category              object\n",
      "city                  object\n",
      "country_code          object\n",
      "country               object\n",
      "description           object\n",
      "email                 object\n",
      "link                  object\n",
      "company_name          object\n",
      "page_type             object\n",
      "phone                 object\n",
      "phone_country_code    object\n",
      "region_code           object\n",
      "region                object\n",
      "zip_code              object\n",
      "full_address_fb       object\n",
      "dtype: object\n",
      "Google columns:\n",
      " address                object\n",
      "category               object\n",
      "city                   object\n",
      "country_code           object\n",
      "country                object\n",
      "company_name           object\n",
      "phone                  object\n",
      "phone_country_code     object\n",
      "raw_address            object\n",
      "raw_phone              object\n",
      "region_code            object\n",
      "region                 object\n",
      "text                   object\n",
      "zip_code               object\n",
      "domain                 object\n",
      "full_address_google    object\n",
      "dtype: object\n",
      "Website columns:\n",
      " domain                  object\n",
      "domain_suffix           object\n",
      "language                object\n",
      "company_name            object\n",
      "city                    object\n",
      "country                 object\n",
      "region                  object\n",
      "phone                   object\n",
      "site_name               object\n",
      "tld                     object\n",
      "category                object\n",
      "full_address_website    object\n",
      "dtype: object\n",
      "Index(['domain', 'address', 'category', 'city', 'country_code', 'country',\n",
      "       'description', 'email', 'link', 'company_name', 'page_type', 'phone',\n",
      "       'phone_country_code', 'region_code', 'region', 'zip_code',\n",
      "       'full_address_fb'],\n",
      "      dtype='object')\n",
      "Index(['address', 'category', 'city', 'country_code', 'country',\n",
      "       'company_name', 'phone', 'phone_country_code', 'raw_address',\n",
      "       'raw_phone', 'region_code', 'region', 'text', 'zip_code', 'domain',\n",
      "       'full_address_google'],\n",
      "      dtype='object')\n",
      "Index(['domain', 'domain_suffix', 'language', 'company_name', 'city',\n",
      "       'country', 'region', 'phone', 'site_name', 'tld', 'category',\n",
      "       'full_address_website'],\n",
      "      dtype='object')\n"
     ]
    }
   ],
   "source": [
    "# Recheck the columns and data types for consistency\n",
    "print(\"Facebook columns:\\n\", facebook_data.dtypes)\n",
    "print(\"Google columns:\\n\", google_data.dtypes)\n",
    "print(\"Website columns:\\n\", website_data.dtypes)\n",
    "\n",
    "# Final check of column names\n",
    "print(facebook_data.columns)\n",
    "print(google_data.columns)\n",
    "print(website_data.columns)"
   ]
  },
  {
   "cell_type": "code",
   "execution_count": 79,
   "id": "cd96f806-f4d2-46af-a035-ad0c5d3c4967",
   "metadata": {},
   "outputs": [],
   "source": [
    "# For Facebook dataset, concatenate city, region, and country into full_address\n",
    "facebook_data['full_address_fb'] = facebook_data[['city', 'region', 'country']].apply(lambda x: ', '.join(x.dropna()), axis=1)\n",
    "\n",
    "# For Google dataset, concatenate city, region, and country into full_address\n",
    "google_data['full_address_google'] = google_data[['city', 'region', 'country']].apply(lambda x: ', '.join(x.dropna()), axis=1)\n",
    "\n",
    "# For Website dataset, concatenate city, region, and country into full_address\n",
    "website_data['full_address_website'] = website_data[['city', 'region', 'country']].apply(lambda x: ', '.join(x.dropna()), axis=1)\n"
   ]
  },
  {
   "cell_type": "code",
   "execution_count": 82,
   "id": "0ddf211f-6a7e-480b-8a54-5fae2e13ca21",
   "metadata": {},
   "outputs": [],
   "source": [
    "#Step 3: Join the Datasets on the domain Column\n",
    "#Next, I merge the datasets using 'domain' as the key. I will perform an outer join to ensure I don't lose any data from any of the datasets.\n",
    "# Merge Facebook and Google datasets first\n",
    "merged_fb_google = pd.merge(facebook_data, google_data, on='domain', how='outer', suffixes=('_fb', '_google'))\n",
    "\n",
    "# Merge the result with the Website dataset\n",
    "merged_all = pd.merge(merged_fb_google, website_data, on='domain', how='outer', suffixes=('', '_website'))"
   ]
  },
  {
   "cell_type": "code",
   "execution_count": 84,
   "id": "ea2e0e6b-5305-4b3c-93dd-1b67470ca453",
   "metadata": {},
   "outputs": [],
   "source": [
    "# Step 4: Resolve Data Conflicts\n",
    "# a. Prioritize company_name\n",
    "# Why prioritize Website first?: The company name listed on the business's official website is likely to be the most formal and official version.\n",
    "# Google second: Google business listings are generally verified, which makes them a reliable backup source.\n",
    "# Facebook last: Facebook might have user-friendly or informal versions of the company name, so I use it as a fallback.\n",
    "\n",
    "# Prioritize Website for company_name, then Google, then Facebook\n",
    "merged_all['company_name'] = merged_all['company_name'].combine_first(merged_all['company_name_google']).combine_first(merged_all['company_name_fb'])"
   ]
  },
  {
   "cell_type": "code",
   "execution_count": 85,
   "id": "22fc8a99-bdf3-4e9c-9a5e-a39a78691cc9",
   "metadata": {},
   "outputs": [],
   "source": [
    "# b. Combine category Values\n",
    "# Why combine categories?: Businesses may be listed under different categories in different datasets. By combining all available categories, we ensure that we capture a complete set of possible categories for each business.\n",
    "\n",
    "# Combine categories from all datasets into one column\n",
    "merged_all['category_combined'] = merged_all['category_fb'].fillna('') + ', ' + merged_all['category_google'].fillna('') + ', ' + merged_all['category'].fillna('')\n",
    "# Remove extra commas and spaces\n",
    "merged_all['category_combined'] = merged_all['category_combined'].str.strip(', ')\n"
   ]
  },
  {
   "cell_type": "code",
   "execution_count": 86,
   "id": "4e29e6ad-44e5-4d75-aab3-7cecad4d5cb5",
   "metadata": {},
   "outputs": [],
   "source": [
    "# c. Prioritize phone\n",
    "# Why prioritize Facebook first?: Facebook is likely to have direct business phone numbers managed by the business itself.\n",
    "# Google second: Google is reliable and often verified but serves as a backup.\n",
    "# Website last: Website phone numbers may be less frequently updated but are useful as a fallback.\n",
    "\n",
    "# Prioritize Facebook for phone, then Google, then Website\n",
    "merged_all['phone'] = merged_all['phone_fb'].combine_first(merged_all['phone_google']).combine_first(merged_all['phone'])"
   ]
  },
  {
   "cell_type": "code",
   "execution_count": 87,
   "id": "0c4fecaa-2806-4bc2-91e8-b98195d7aea8",
   "metadata": {},
   "outputs": [],
   "source": [
    "# d. Use the full_address\n",
    "# Why prioritize Facebook first?: Facebook’s address may be more user-managed and recent.\n",
    "# Google second: Google often has reliable, verified addresses for businesses.\n",
    "# Website last: Website addresses can serve as a fallback when other data is missing.\n",
    "\n",
    "# Prioritize Facebook's full_address first, then Google, then Website\n",
    "merged_all['full_address'] = merged_all['full_address_fb'].combine_first(merged_all['full_address_google']).combine_first(merged_all['full_address_website'])"
   ]
  },
  {
   "cell_type": "code",
   "execution_count": 88,
   "id": "95a4048c-273e-4749-875c-fd39689f88cd",
   "metadata": {},
   "outputs": [
    {
     "data": {
      "text/html": [
       "<div>\n",
       "<style scoped>\n",
       "    .dataframe tbody tr th:only-of-type {\n",
       "        vertical-align: middle;\n",
       "    }\n",
       "\n",
       "    .dataframe tbody tr th {\n",
       "        vertical-align: top;\n",
       "    }\n",
       "\n",
       "    .dataframe thead th {\n",
       "        text-align: right;\n",
       "    }\n",
       "</style>\n",
       "<table border=\"1\" class=\"dataframe\">\n",
       "  <thead>\n",
       "    <tr style=\"text-align: right;\">\n",
       "      <th></th>\n",
       "      <th>domain</th>\n",
       "      <th>company_name</th>\n",
       "      <th>category_combined</th>\n",
       "      <th>phone</th>\n",
       "      <th>full_address</th>\n",
       "    </tr>\n",
       "  </thead>\n",
       "  <tbody>\n",
       "    <tr>\n",
       "      <th>0</th>\n",
       "      <td>Mobile Pet Salon - Edmonton\"</td>\n",
       "      <td>unknown</td>\n",
       "      <td>unknown</td>\n",
       "      <td>nan</td>\n",
       "      <td>Unknown</td>\n",
       "    </tr>\n",
       "    <tr>\n",
       "      <th>1</th>\n",
       "      <td>(519) 771-8508\"</td>\n",
       "      <td>unknown</td>\n",
       "      <td>unknown</td>\n",
       "      <td>nan</td>\n",
       "      <td>Unknown</td>\n",
       "    </tr>\n",
       "    <tr>\n",
       "      <th>2</th>\n",
       "      <td>007group.com</td>\n",
       "      <td>hawkeye holdings ltd.</td>\n",
       "      <td>other engineering services|buses, shuttles &amp; l...</td>\n",
       "      <td>12507657007.0</td>\n",
       "      <td>kelowna, british columbia, canada</td>\n",
       "    </tr>\n",
       "    <tr>\n",
       "      <th>3</th>\n",
       "      <td>007print.be</td>\n",
       "      <td>unknown</td>\n",
       "      <td>business consulting, construction services, co...</td>\n",
       "      <td>32499228888.0</td>\n",
       "      <td>hasselt, flanders, belgium</td>\n",
       "    </tr>\n",
       "    <tr>\n",
       "      <th>4</th>\n",
       "      <td>01remote.com</td>\n",
       "      <td>unknown</td>\n",
       "      <td>computer stores|cable &amp; internet providers, co...</td>\n",
       "      <td>nan</td>\n",
       "      <td>mississauga, ontario, canada</td>\n",
       "    </tr>\n",
       "  </tbody>\n",
       "</table>\n",
       "</div>"
      ],
      "text/plain": [
       "                          domain           company_name  \\\n",
       "0   Mobile Pet Salon - Edmonton\"                unknown   \n",
       "1                (519) 771-8508\"                unknown   \n",
       "2                   007group.com  hawkeye holdings ltd.   \n",
       "3                    007print.be                unknown   \n",
       "4                   01remote.com                unknown   \n",
       "\n",
       "                                   category_combined          phone  \\\n",
       "0                                            unknown            nan   \n",
       "1                                            unknown            nan   \n",
       "2  other engineering services|buses, shuttles & l...  12507657007.0   \n",
       "3  business consulting, construction services, co...  32499228888.0   \n",
       "4  computer stores|cable & internet providers, co...            nan   \n",
       "\n",
       "                        full_address  \n",
       "0                            Unknown  \n",
       "1                            Unknown  \n",
       "2  kelowna, british columbia, canada  \n",
       "3         hasselt, flanders, belgium  \n",
       "4       mississauga, ontario, canada  "
      ]
     },
     "execution_count": 88,
     "metadata": {},
     "output_type": "execute_result"
    }
   ],
   "source": [
    "# Step 5: Clean and Finalize the Merged Dataset\n",
    "# I can select the key columns of interest for the final dataset.\n",
    "\n",
    "# Select the relevant columns for the final dataset\n",
    "final_columns = ['domain', 'company_name', 'category_combined', 'phone', 'full_address']\n",
    "\n",
    "# Create the final dataset\n",
    "final_dataset = merged_all[final_columns]\n",
    "\n",
    "# Display the first few rows of the final dataset\n",
    "final_dataset.head()"
   ]
  },
  {
   "cell_type": "code",
   "execution_count": 89,
   "id": "5b5fb200-2f22-462e-a313-a9b8afb524f5",
   "metadata": {},
   "outputs": [],
   "source": [
    "# Steps to Fix the Issues:\n",
    "# 1. Handle Inconsistent Data in the domain Column\n",
    "# Some entries in the domain column look incorrectly formatted. Let’s clean up the domain column by:\n",
    "\n",
    "# Stripping leading/trailing spaces.\n",
    "# Removing any invalid characters (like extra quotes or spaces).\n",
    "\n",
    "# Clean the domain column\n",
    "merged_all['domain'] = merged_all['domain'].str.strip().str.replace('\"', '')"
   ]
  },
  {
   "cell_type": "code",
   "execution_count": 91,
   "id": "26dcd8d6-c583-410f-911e-78496d7ed6ad",
   "metadata": {},
   "outputs": [],
   "source": [
    "# 2. Fixing the Prioritization for company_name, phone, and full_address\n",
    "# Let’s ensure the proper prioritization for each of the fields based on the datasets I am merging from.\n",
    "\n",
    "# a. Fixing company_name Prioritization\n",
    "# Make sure the fallback logic is correct for company_name. Instead of showing \"unknown\", missing values should correctly fallback to other datasets.\n",
    "\n",
    "# Replace empty or NaN company names with fallback from other datasets\n",
    "merged_all['company_name'] = merged_all['company_name'].combine_first(merged_all['company_name_google']).combine_first(merged_all['company_name_fb'])\n",
    "\n",
    "# Replace any remaining NaNs with 'Unknown' without using inplace=True\n",
    "merged_all['company_name'] = merged_all['company_name'].fillna('Unknown')"
   ]
  },
  {
   "cell_type": "code",
   "execution_count": 93,
   "id": "fb348694-5d52-4dd7-9e89-ecd5af37ef1d",
   "metadata": {},
   "outputs": [],
   "source": [
    "# b. Fixing phone Prioritization\n",
    "# Ensure phone prioritization is correct. Missing values in phone should fallback correctly, and I will fill any remaining missing values with \"Unknown\".\n",
    "\n",
    "# Replace empty or NaN phone numbers with fallback from other datasets\n",
    "merged_all['phone'] = merged_all['phone_fb'].combine_first(merged_all['phone_google']).combine_first(merged_all['phone'])\n",
    "\n",
    "# Replace any remaining NaNs with 'Unknown'\n",
    "merged_all['phone'] = merged_all['phone'].fillna('Unknown')"
   ]
  },
  {
   "cell_type": "code",
   "execution_count": 95,
   "id": "9b69a9ca-e9b9-43d0-8af7-d3ab1b3faf88",
   "metadata": {},
   "outputs": [],
   "source": [
    "# c. Fixing full_address Prioritization\n",
    "# Ensure that full_address combines properly from Facebook, Google, and Website, and fill any missing values with \"Unknown\".\n",
    "\n",
    "# Replace empty or NaN full_address with fallback from other datasets\n",
    "merged_all['full_address'] = merged_all['full_address_fb'].combine_first(merged_all['full_address_google']).combine_first(merged_all['full_address_website'])\n",
    "\n",
    "# Replace any remaining NaNs with 'Unknown'\n",
    "merged_all['full_address'] = merged_all['full_address'].fillna('Unknown')"
   ]
  },
  {
   "cell_type": "code",
   "execution_count": 97,
   "id": "7e64df0c-b9c8-4f30-b770-172e9d45a3e6",
   "metadata": {},
   "outputs": [],
   "source": [
    "# 3. Review the category_combined Column\n",
    "# Make sure that the category_combined field is properly concatenated from all datasets, and clean any leading/trailing commas.\n",
    "\n",
    "# Combine categories from all datasets into one column\n",
    "merged_all['category_combined'] = merged_all['category_fb'].fillna('') + ', ' + merged_all['category_google'].fillna('') + ', ' + merged_all['category'].fillna('')\n",
    "\n",
    "# Remove leading/trailing commas and extra spaces\n",
    "merged_all['category_combined'] = merged_all['category_combined'].str.strip(', ')\n",
    "\n",
    "# Replace any remaining NaNs with 'Unknown'\n",
    "merged_all['category_combined'] = merged_all['category_combined'].fillna('Unknown')"
   ]
  },
  {
   "cell_type": "code",
   "execution_count": 98,
   "id": "99f0f31d-8f9c-46e0-be6d-7c712e2825b6",
   "metadata": {},
   "outputs": [
    {
     "name": "stdout",
     "output_type": "stream",
     "text": [
      "                          domain           company_name  \\\n",
      "0   Mobile Pet Salon - Edmonton\"                unknown   \n",
      "1                (519) 771-8508\"                unknown   \n",
      "2                   007group.com  hawkeye holdings ltd.   \n",
      "3                    007print.be                unknown   \n",
      "4                   01remote.com                unknown   \n",
      "\n",
      "                                   category_combined          phone  \\\n",
      "0                                            unknown            nan   \n",
      "1                                            unknown            nan   \n",
      "2  other engineering services|buses, shuttles & l...  12507657007.0   \n",
      "3  business consulting, construction services, co...  32499228888.0   \n",
      "4  computer stores|cable & internet providers, co...            nan   \n",
      "\n",
      "                        full_address  \n",
      "0                            Unknown  \n",
      "1                            Unknown  \n",
      "2  kelowna, british columbia, canada  \n",
      "3         hasselt, flanders, belgium  \n",
      "4       mississauga, ontario, canada  \n"
     ]
    }
   ],
   "source": [
    "# 4. Review the First Few Rows\n",
    "# Now that we've cleaned up and fixed the prioritization, let’s review the first few rows to ensure everything looks correct.\n",
    "\n",
    "# Display the first few rows of the merged dataset\n",
    "print(merged_all[['domain', 'company_name', 'category_combined', 'phone', 'full_address']].head())"
   ]
  },
  {
   "cell_type": "code",
   "execution_count": 100,
   "id": "482ccd4a-18ea-4163-aeae-55f289e49949",
   "metadata": {},
   "outputs": [],
   "source": [
    "# It seems that some issues persist, particularly around:\n",
    "\n",
    "# 1. domain: Some entries like \"Mobile Pet Salon – Edmonton\" and \"(519) 771-8508\" are incorrectly placed in the domain field.\n",
    "# 2. company_name and phone: Many entries are still listed as \"unknown\" or NaN, meaning either the fallback strategy is not being applied correctly, or the source data is incomplete.\n",
    "# 3. full_address: Some rows still show \"Unknown\" for addresses, which might indicate missing data in all three datasets.\n",
    "# Let's address these issues step by step:\n",
    "\n",
    "# 1. Fixing the domain Column\n",
    "# It seems like some entries in the domain column are not valid domain names (e.g., a phone number is in the domain column). This could be a result of an issue in the merge process or incorrect data in the source files.\n",
    "\n",
    "# Fix:\n",
    "# I can apply a quick regex filter to ensure that the domain column only contains valid domains. For example, I can ensure that the domain entries contain only typical domain characters (like letters, numbers, -, ., etc.).\n",
    "\n",
    "import re\n",
    "\n",
    "# Define a function to clean up invalid domains\n",
    "def clean_domain(domain):\n",
    "    if pd.isnull(domain):\n",
    "        return domain\n",
    "    # Regex to check if the domain contains only valid domain characters\n",
    "    if re.match(r'^[a-zA-Z0-9.-]+\\.[a-zA-Z]{2,}$', domain):\n",
    "        return domain\n",
    "    else:\n",
    "        return None  # Mark invalid domains as None\n",
    "\n",
    "# Apply the function to the domain column\n",
    "merged_all['domain'] = merged_all['domain'].apply(clean_domain)\n",
    "\n",
    "# After cleaning, fill missing domain values with 'Unknown'\n",
    "merged_all['domain'] = merged_all['domain'].fillna('Unknown')\n"
   ]
  },
  {
   "cell_type": "code",
   "execution_count": 133,
   "id": "16f31474-be9a-47c5-b9e6-7ae0f81e6ce6",
   "metadata": {},
   "outputs": [],
   "source": [
    "# 2. Prioritizing company_name and phone Correctly\n",
    "# The fallback strategy for company_name and phone might not be working as expected, leading to \"unknown\" and NaN values. I need to carefully check if all datasets have valid values in these columns and ensure the prioritization is correct.\n",
    "\n",
    "# Fix:\n",
    "# I can try a slightly different strategy to ensure the fallback works properly:\n",
    "\n",
    "# Prioritize Facebook first, then Google, then Website for company_name\n",
    "merged_all['company_name'] = merged_all['company_name_fb'].combine_first(merged_all['company_name_google']).combine_first(merged_all['company_name'])\n",
    "\n",
    "# If 'company_name' is still NaN, replace with 'Unknown'\n",
    "merged_all['company_name'] = merged_all['company_name'].fillna('Unknown')\n",
    "\n",
    "# Prioritize Facebook first, then Google, then Website for phone\n",
    "merged_all['phone'] = merged_all['phone_fb'].combine_first(merged_all['phone_google']).combine_first(merged_all['phone'])\n",
    "\n",
    "# If 'phone' is still NaN, replace with 'Unknown'\n",
    "merged_all['phone'] = merged_all['phone'].fillna('Unknown')\n"
   ]
  },
  {
   "cell_type": "code",
   "execution_count": 134,
   "id": "6c17f9e5-56e1-4116-9b18-4d01b413dacf",
   "metadata": {},
   "outputs": [],
   "source": [
    "# 3. Checking the full_address Field\n",
    "# For the full_address, it seems that many rows are still showing \"Unknown\". This could mean that all datasets have missing data for these businesses, or the concatenation might not have worked correctly.\n",
    "\n",
    "# Fix:\n",
    "# I can double-check the full_address prioritization and clean any potential issues:\n",
    "\n",
    "# Prioritize Facebook first, then Google, then Website for full_address\n",
    "merged_all['full_address'] = merged_all['full_address_fb'].combine_first(merged_all['full_address_google']).combine_first(merged_all['full_address_website'])\n",
    "\n",
    "# If 'full_address' is still NaN, replace with 'Unknown'\n",
    "merged_all['full_address'] = merged_all['full_address'].fillna('Unknown')"
   ]
  },
  {
   "cell_type": "code",
   "execution_count": 135,
   "id": "7b963649-e4f6-4bcc-b126-a4ab7339b9e1",
   "metadata": {},
   "outputs": [
    {
     "name": "stdout",
     "output_type": "stream",
     "text": [
      "                          domain          company_name  \\\n",
      "0   Mobile Pet Salon - Edmonton\"               unknown   \n",
      "1                (519) 771-8508\"               unknown   \n",
      "2                   007group.com  hawkeye holdings ltd   \n",
      "3                    007print.be              007print   \n",
      "4                   01remote.com             01 remote   \n",
      "\n",
      "                                   category_combined          phone  \\\n",
      "0                                            unknown            nan   \n",
      "1                                            unknown            nan   \n",
      "2  other engineering services|buses, shuttles & l...  12507657007.0   \n",
      "3  business consulting, construction services, co...  32499228888.0   \n",
      "4  computer stores|cable & internet providers, co...            nan   \n",
      "\n",
      "                        full_address  \n",
      "0                            Unknown  \n",
      "1                            Unknown  \n",
      "2  kelowna, british columbia, canada  \n",
      "3         hasselt, flanders, belgium  \n",
      "4       mississauga, ontario, canada  \n"
     ]
    }
   ],
   "source": [
    "# 4. Review the Updated Data\n",
    "# After applying these fixes, let’s review the first few rows of the cleaned data:\n",
    "\n",
    "# Review the first few rows of the cleaned dataset\n",
    "print(merged_all[['domain', 'company_name', 'category_combined', 'phone', 'full_address']].head())"
   ]
  },
  {
   "cell_type": "code",
   "execution_count": 136,
   "id": "60189a62-95c5-4aac-a2f8-36063108dc33",
   "metadata": {},
   "outputs": [],
   "source": [
    "# The data now looks cleaner, but there are still some persistent issues that need to be addressed:\n",
    "\n",
    "# 1. Unknown domains: The first two rows have \"Unknown\" in the domain column. This might have been caused by invalid entries, but I need to double-check the source data and ensure proper fallback for missing or invalid domains.\n",
    "# 2. company_name still shows \"unknown\": This means that none of the datasets (Facebook, Google, or Website) had a valid company_name for those rows.\n",
    "# 3. phone values are in scientific notation: The phone numbers are still displayed in a format like 12507657007.0. I need to properly format the phone numbers to remove decimals and make them readable.\n",
    "# 4. full_address looks better: The address is correctly populated in some rows, but missing in others (showing as \"Unknown\"). This suggests that the missing addresses are present across all datasets for those rows.\n"
   ]
  },
  {
   "cell_type": "code",
   "execution_count": 137,
   "id": "f2c4db16-ee85-45ca-8891-4028f8fae881",
   "metadata": {},
   "outputs": [],
   "source": [
    "# 1. Fixing the Domain Column\n",
    "# The first two rows still show \"Unknown\" for the domain. These rows may contain invalid data in the domain field. I might want to:\n",
    "\n",
    "# Check for those rows had a valid domain in any of the original datasets.\n",
    "# If no valid domain exists, leaving them as \"Unknown\" might be the best option.\n",
    "# I can also look at related fields like company_name, phone, or address to see if they help identify what the domain might be.\n",
    "\n",
    "# Step-by-Step Approach to Investigate \"Unknown\" Domains:\n",
    "# 1. Add a Temporary Row Identifier to Each Dataset:\n",
    "# Before merging the datasets, I can add a temporary row identifier (e.g., an index) to each dataset. This way, after the merge, I will know which row in the original dataset each entry came from. This identifier will help us track back to the original rows even if the domain is \"Unknown\".\n",
    "\n",
    "# a. Add Row Identifiers to the Original Datasets:\n",
    "# First, I add an identifier column (e.g., original_index) to each of the datasets (Facebook, Google, and Website) before merging:\n",
    "\n",
    "# Add a row identifier to Facebook dataset\n",
    "facebook_data['facebook_index'] = facebook_data.index\n",
    "\n",
    "# Add a row identifier to Google dataset\n",
    "google_data['google_index'] = google_data.index\n",
    "\n",
    "# Add a row identifier to Website dataset\n",
    "website_data['website_index'] = website_data.index\n"
   ]
  },
  {
   "cell_type": "code",
   "execution_count": 138,
   "id": "bc250b82-de1e-4e6a-b986-2a939556624d",
   "metadata": {},
   "outputs": [],
   "source": [
    "# b. Merge the Datasets with Row Identifiers:\n",
    "# Now, when I merge the datasets, I'll keep the row identifiers intact:\n",
    "\n",
    "# Merge Facebook and Google datasets first\n",
    "merged_fb_google = pd.merge(facebook_data, google_data, on='domain', how='outer', suffixes=('_fb', '_google'))\n",
    "\n",
    "# Then merge with the Website dataset\n",
    "merged_all = pd.merge(merged_fb_google, website_data, on='domain', how='outer', suffixes=('', '_website'))\n",
    "\n",
    "# This will keep the original row indices from Facebook, Google, and Website in the merged dataset"
   ]
  },
  {
   "cell_type": "code",
   "execution_count": 139,
   "id": "4fa6d76a-1ff6-4682-901c-38b7e1d37305",
   "metadata": {},
   "outputs": [
    {
     "name": "stdout",
     "output_type": "stream",
     "text": [
      "Index(['domain', 'address_fb', 'category_fb', 'city_fb', 'country_code_fb',\n",
      "       'country_fb', 'description', 'email', 'link', 'company_name_fb',\n",
      "       'page_type', 'phone_fb', 'phone_country_code_fb', 'region_code_fb',\n",
      "       'region_fb', 'zip_code_fb', 'full_address_fb', 'facebook_index',\n",
      "       'address_google', 'category_google', 'city_google',\n",
      "       'country_code_google', 'country_google', 'company_name_google',\n",
      "       'phone_google', 'phone_country_code_google', 'raw_address', 'raw_phone',\n",
      "       'region_code_google', 'region_google', 'text', 'zip_code_google',\n",
      "       'full_address_google', 'google_index', 'domain_suffix', 'language',\n",
      "       'company_name', 'city', 'country', 'region', 'phone', 'site_name',\n",
      "       'tld', 'category', 'full_address_website', 'website_index'],\n",
      "      dtype='object')\n"
     ]
    }
   ],
   "source": [
    "# 2. Identify Rows with \"Unknown\" Domains:\n",
    "# Next, let's isolate the rows in the merged dataset where the domain is \"Unknown\":\n",
    "\n",
    "# Filter rows where domain is 'Unknown'\n",
    "unknown_domains = merged_all[merged_all['domain'] == 'Unknown']\n",
    "\n",
    "print(merged_all.columns)"
   ]
  },
  {
   "cell_type": "code",
   "execution_count": 140,
   "id": "915c81d4-35cd-4823-8e5d-a02bf4124059",
   "metadata": {},
   "outputs": [],
   "source": [
    "# Ensure the full_address Column Exists: If full_address does not exist in the merged DataFrame, I may need to create it by concatenating the address-related columns from the Facebook, Google, and Website datasets (as discussed earlier).\n",
    "\n",
    "# Here’s the step to create full_address if it hasn’t been done yet:\n",
    "\n",
    "# Create the full_address column by combining city, region, and country from all datasets\n",
    "merged_all['full_address'] = merged_all['full_address_fb'].combine_first(merged_all['full_address_google']).combine_first(merged_all['full_address_website'])"
   ]
  },
  {
   "cell_type": "code",
   "execution_count": 141,
   "id": "29b617c9-c4cf-434a-8ae9-4eb22e2e3d87",
   "metadata": {},
   "outputs": [
    {
     "name": "stdout",
     "output_type": "stream",
     "text": [
      "Empty DataFrame\n",
      "Columns: [facebook_index, google_index, website_index, company_name, phone, full_address]\n",
      "Index: []\n"
     ]
    }
   ],
   "source": [
    "# Filter rows where domain is 'Unknown'\n",
    "unknown_domains = merged_all[merged_all['domain'] == 'Unknown']\n",
    "\n",
    "# Check the first few rows with 'Unknown' domains\n",
    "print(unknown_domains[['facebook_index', 'google_index', 'website_index', 'company_name', 'phone', 'full_address']].head())\n"
   ]
  },
  {
   "cell_type": "code",
   "execution_count": 142,
   "id": "ae5fa627-382d-4bd1-906a-c565a88c8ebe",
   "metadata": {},
   "outputs": [
    {
     "name": "stdout",
     "output_type": "stream",
     "text": [
      "Empty DataFrame\n",
      "Columns: [facebook_index, google_index, website_index, company_name, phone, full_address]\n",
      "Index: []\n"
     ]
    }
   ],
   "source": [
    "# Check the first few rows with 'Unknown' domains\n",
    "print(unknown_domains[['facebook_index', 'google_index', 'website_index', 'company_name', 'phone', 'full_address']].head())"
   ]
  },
  {
   "cell_type": "code",
   "execution_count": 143,
   "id": "9d9d28b8-c2b0-4774-a07f-ce2009660591",
   "metadata": {},
   "outputs": [
    {
     "data": {
      "text/html": [
       "<div>\n",
       "<style scoped>\n",
       "    .dataframe tbody tr th:only-of-type {\n",
       "        vertical-align: middle;\n",
       "    }\n",
       "\n",
       "    .dataframe tbody tr th {\n",
       "        vertical-align: top;\n",
       "    }\n",
       "\n",
       "    .dataframe thead th {\n",
       "        text-align: right;\n",
       "    }\n",
       "</style>\n",
       "<table border=\"1\" class=\"dataframe\">\n",
       "  <thead>\n",
       "    <tr style=\"text-align: right;\">\n",
       "      <th></th>\n",
       "      <th>domain</th>\n",
       "      <th>address</th>\n",
       "      <th>category</th>\n",
       "      <th>city</th>\n",
       "      <th>country_code</th>\n",
       "      <th>country</th>\n",
       "      <th>description</th>\n",
       "      <th>email</th>\n",
       "      <th>link</th>\n",
       "      <th>company_name</th>\n",
       "      <th>page_type</th>\n",
       "      <th>phone</th>\n",
       "      <th>phone_country_code</th>\n",
       "      <th>region_code</th>\n",
       "      <th>region</th>\n",
       "      <th>zip_code</th>\n",
       "      <th>full_address_fb</th>\n",
       "      <th>facebook_index</th>\n",
       "    </tr>\n",
       "  </thead>\n",
       "  <tbody>\n",
       "  </tbody>\n",
       "</table>\n",
       "</div>"
      ],
      "text/plain": [
       "Empty DataFrame\n",
       "Columns: [domain, address, category, city, country_code, country, description, email, link, company_name, page_type, phone, phone_country_code, region_code, region, zip_code, full_address_fb, facebook_index]\n",
       "Index: []"
      ]
     },
     "execution_count": 143,
     "metadata": {},
     "output_type": "execute_result"
    }
   ],
   "source": [
    "# 3. Cross-Check the Original Data Using the Row Identifiers:\n",
    "# To investigate these rows further, I can go back to the original datasets using the row identifiers:\n",
    "\n",
    "# Check the corresponding rows in Facebook for missing domains\n",
    "facebook_data.loc[facebook_data['facebook_index'].isin(unknown_domains['facebook_index'])]\n"
   ]
  },
  {
   "cell_type": "code",
   "execution_count": 144,
   "id": "2feff5b9-3840-46a4-a8af-a27241456079",
   "metadata": {},
   "outputs": [
    {
     "data": {
      "text/html": [
       "<div>\n",
       "<style scoped>\n",
       "    .dataframe tbody tr th:only-of-type {\n",
       "        vertical-align: middle;\n",
       "    }\n",
       "\n",
       "    .dataframe tbody tr th {\n",
       "        vertical-align: top;\n",
       "    }\n",
       "\n",
       "    .dataframe thead th {\n",
       "        text-align: right;\n",
       "    }\n",
       "</style>\n",
       "<table border=\"1\" class=\"dataframe\">\n",
       "  <thead>\n",
       "    <tr style=\"text-align: right;\">\n",
       "      <th></th>\n",
       "      <th>address</th>\n",
       "      <th>category</th>\n",
       "      <th>city</th>\n",
       "      <th>country_code</th>\n",
       "      <th>country</th>\n",
       "      <th>company_name</th>\n",
       "      <th>phone</th>\n",
       "      <th>phone_country_code</th>\n",
       "      <th>raw_address</th>\n",
       "      <th>raw_phone</th>\n",
       "      <th>region_code</th>\n",
       "      <th>region</th>\n",
       "      <th>text</th>\n",
       "      <th>zip_code</th>\n",
       "      <th>domain</th>\n",
       "      <th>full_address_google</th>\n",
       "      <th>google_index</th>\n",
       "    </tr>\n",
       "  </thead>\n",
       "  <tbody>\n",
       "  </tbody>\n",
       "</table>\n",
       "</div>"
      ],
      "text/plain": [
       "Empty DataFrame\n",
       "Columns: [address, category, city, country_code, country, company_name, phone, phone_country_code, raw_address, raw_phone, region_code, region, text, zip_code, domain, full_address_google, google_index]\n",
       "Index: []"
      ]
     },
     "execution_count": 144,
     "metadata": {},
     "output_type": "execute_result"
    }
   ],
   "source": [
    "# Check the corresponding rows in Google\n",
    "google_data.loc[google_data['google_index'].isin(unknown_domains['google_index'])]"
   ]
  },
  {
   "cell_type": "code",
   "execution_count": 145,
   "id": "8be56990-3eb9-415d-a3f8-8384f24e6249",
   "metadata": {},
   "outputs": [
    {
     "data": {
      "text/html": [
       "<div>\n",
       "<style scoped>\n",
       "    .dataframe tbody tr th:only-of-type {\n",
       "        vertical-align: middle;\n",
       "    }\n",
       "\n",
       "    .dataframe tbody tr th {\n",
       "        vertical-align: top;\n",
       "    }\n",
       "\n",
       "    .dataframe thead th {\n",
       "        text-align: right;\n",
       "    }\n",
       "</style>\n",
       "<table border=\"1\" class=\"dataframe\">\n",
       "  <thead>\n",
       "    <tr style=\"text-align: right;\">\n",
       "      <th></th>\n",
       "      <th>domain</th>\n",
       "      <th>domain_suffix</th>\n",
       "      <th>language</th>\n",
       "      <th>company_name</th>\n",
       "      <th>city</th>\n",
       "      <th>country</th>\n",
       "      <th>region</th>\n",
       "      <th>phone</th>\n",
       "      <th>site_name</th>\n",
       "      <th>tld</th>\n",
       "      <th>category</th>\n",
       "      <th>full_address_website</th>\n",
       "      <th>website_index</th>\n",
       "    </tr>\n",
       "  </thead>\n",
       "  <tbody>\n",
       "  </tbody>\n",
       "</table>\n",
       "</div>"
      ],
      "text/plain": [
       "Empty DataFrame\n",
       "Columns: [domain, domain_suffix, language, company_name, city, country, region, phone, site_name, tld, category, full_address_website, website_index]\n",
       "Index: []"
      ]
     },
     "execution_count": 145,
     "metadata": {},
     "output_type": "execute_result"
    }
   ],
   "source": [
    "# Check the corresponding rows in Website\n",
    "website_data.loc[website_data['website_index'].isin(unknown_domains['website_index'])]"
   ]
  },
  {
   "cell_type": "code",
   "execution_count": 146,
   "id": "28cd55e1-da67-4b5b-bd77-f22c7284a729",
   "metadata": {},
   "outputs": [
    {
     "name": "stdout",
     "output_type": "stream",
     "text": [
      "                          domain  \\\n",
      "0   Mobile Pet Salon - Edmonton\"   \n",
      "1                (519) 771-8508\"   \n",
      "2                   007group.com   \n",
      "3                    007print.be   \n",
      "4                   01remote.com   \n",
      "\n",
      "                                          address_fb  \\\n",
      "0                                                NaN   \n",
      "1                                                NaN   \n",
      "2  3396 sexsmith road, v1x 7s5, kelowna, bc, cana...   \n",
      "3  hendrik van veldekesingel 150/94, 3500, hassel...   \n",
      "4  100 city centre drive, l5b 3c7, mississauga, o...   \n",
      "\n",
      "                                         category_fb      city_fb  \\\n",
      "0                                                NaN          NaN   \n",
      "1                                                NaN          NaN   \n",
      "2  other engineering services|buses, shuttles & l...      kelowna   \n",
      "3                                business consulting      hasselt   \n",
      "4         computer stores|cable & internet providers  mississauga   \n",
      "\n",
      "  country_code_fb country_fb  \\\n",
      "0             NaN        NaN   \n",
      "1             NaN        NaN   \n",
      "2              ca     canada   \n",
      "3              be    belgium   \n",
      "4              ca     canada   \n",
      "\n",
      "                                         description                 email  \\\n",
      "0                                                NaN                   NaN   \n",
      "1                                                NaN                   NaN   \n",
      "2                                                NaN                   NaN   \n",
      "3                                                NaN                   NaN   \n",
      "4  01 Remote provides remote IT support service t...  service@01remote.com   \n",
      "\n",
      "                   link       company_name_fb  ...     city  country  \\\n",
      "0                   NaN                   NaN  ...  Unknown      NaN   \n",
      "1                   NaN                   NaN  ...  Unknown      NaN   \n",
      "2  https://007group.com  hawkeye holdings ltd  ...  kelowna   canada   \n",
      "3   https://007print.be              007print  ...  hasselt  belgium   \n",
      "4   http://01remote.com             01 remote  ...  Unknown      NaN   \n",
      "\n",
      "             region          phone         site_name  tld  \\\n",
      "0               NaN            nan               NaN  NaN   \n",
      "1               NaN            nan               NaN  NaN   \n",
      "2  british columbia  12507657007.0  Hawkeye Holdings  com   \n",
      "3          flanders  32499228888.0          007Print   be   \n",
      "4               NaN            nan               NaN  NaN   \n",
      "\n",
      "                 category               full_address_website website_index  \\\n",
      "0                 unknown                            Unknown       12556.0   \n",
      "1                 unknown                            Unknown       53414.0   \n",
      "2  trucking and logistics  kelowna, british columbia, canada       70099.0   \n",
      "3     commercial printing         hasselt, flanders, belgium       35253.0   \n",
      "4                 unknown                            Unknown       55439.0   \n",
      "\n",
      "                        full_address  \n",
      "0                            Unknown  \n",
      "1                            Unknown  \n",
      "2  kelowna, british columbia, canada  \n",
      "3         hasselt, flanders, belgium  \n",
      "4       mississauga, ontario, canada  \n",
      "\n",
      "[5 rows x 47 columns]\n"
     ]
    }
   ],
   "source": [
    "# Recap of How the 4th Dataset Was Created:\n",
    "\n",
    "# Merging the Datasets:\n",
    "#The datasets were merged using the domain as the common identifier.\n",
    "#An outer join was used to keep all data, even if a particular entry was missing in one or more datasets.\n",
    "\n",
    "#Conflict Resolution:\n",
    "#For fields like company_name, phone, category, and address, priority was given to the dataset deemed the most reliable (e.g., Website for company_name).\n",
    "\n",
    "#Data Cleaning:\n",
    "#Missing values were filled as \"Unknown\".\n",
    "#The full_address field was created by combining city, region, and country fields.\n",
    "\n",
    "#Final Dataset:\n",
    "#The result of this process was saved into final_cleaned_dataset.csv, which is my 4th dataset.\n",
    "\n",
    "# Saving the final merged and cleaned dataset to a CSV file\n",
    "merged_all.to_csv('fouth_dataset.csv', index=False)\n",
    "\n",
    "# Inspect the first few rows of the final dataset\n",
    "print(merged_all.head())\n",
    "\n"
   ]
  },
  {
   "cell_type": "code",
   "execution_count": 147,
   "id": "344659c0-8fd4-4b5f-a5fe-373c908269cc",
   "metadata": {},
   "outputs": [
    {
     "name": "stdout",
     "output_type": "stream",
     "text": [
      "Index(['domain', 'address_fb', 'category_fb', 'city_fb', 'country_code_fb',\n",
      "       'country_fb', 'description', 'email', 'link', 'company_name_fb',\n",
      "       'page_type', 'phone_fb', 'phone_country_code_fb', 'region_code_fb',\n",
      "       'region_fb', 'zip_code_fb', 'full_address_fb', 'facebook_index',\n",
      "       'address_google', 'category_google', 'city_google',\n",
      "       'country_code_google', 'country_google', 'company_name_google',\n",
      "       'phone_google', 'phone_country_code_google', 'raw_address', 'raw_phone',\n",
      "       'region_code_google', 'region_google', 'text', 'zip_code_google',\n",
      "       'full_address_google', 'google_index', 'domain_suffix', 'language',\n",
      "       'company_name', 'city', 'country', 'region', 'phone', 'site_name',\n",
      "       'tld', 'category', 'full_address_website', 'website_index',\n",
      "       'full_address'],\n",
      "      dtype='object')\n"
     ]
    }
   ],
   "source": [
    "# Select only the key identifiers and fields\n",
    "#fourth_dataset = merged_all[['domain', 'company_name', 'category_combined', 'phone', 'full_address']]\n",
    "# Check all column names in the merged DataFrame\n",
    "print(merged_all.columns)"
   ]
  },
  {
   "cell_type": "code",
   "execution_count": 148,
   "id": "5db3ac8b-8d64-41cc-9d0a-55a77c805144",
   "metadata": {},
   "outputs": [],
   "source": [
    "# Combine categories from Facebook, Google, and Website datasets\n",
    "merged_all['category_combined'] = merged_all['category_fb'].fillna('') + ', ' + \\\n",
    "                                  merged_all['category_google'].fillna('') + ', ' + \\\n",
    "                                  merged_all['category'].fillna('')\n",
    "\n",
    "# Clean up any extra commas and spaces\n",
    "merged_all['category_combined'] = merged_all['category_combined'].str.strip(', ').replace('', 'Unknown')\n"
   ]
  },
  {
   "cell_type": "code",
   "execution_count": 149,
   "id": "c900d626-a957-452c-9d43-9ee0274b6f7f",
   "metadata": {},
   "outputs": [],
   "source": [
    "# Select only the key columns for the final dataset\n",
    "fourth_dataset = merged_all[['domain', 'company_name', 'category_combined', 'phone', 'full_address']]\n"
   ]
  },
  {
   "cell_type": "code",
   "execution_count": 150,
   "id": "2c017b88-b7cd-417b-b13a-2ff1b332ceaf",
   "metadata": {},
   "outputs": [],
   "source": [
    "# Save the final dataset to a CSV file\n",
    "fourth_dataset.to_csv('fourth_dataset.csv', index=False)\n"
   ]
  },
  {
   "cell_type": "code",
   "execution_count": 151,
   "id": "26f0490a-abd9-44eb-947b-4c25c1bc63db",
   "metadata": {},
   "outputs": [
    {
     "name": "stdout",
     "output_type": "stream",
     "text": [
      "                          domain           company_name  \\\n",
      "0   Mobile Pet Salon - Edmonton\"                unknown   \n",
      "1                (519) 771-8508\"                unknown   \n",
      "2                   007group.com  hawkeye holdings ltd.   \n",
      "3                    007print.be                unknown   \n",
      "4                   01remote.com                unknown   \n",
      "\n",
      "                                   category_combined          phone  \\\n",
      "0                                            unknown            nan   \n",
      "1                                            unknown            nan   \n",
      "2  other engineering services|buses, shuttles & l...  12507657007.0   \n",
      "3  business consulting, construction services, co...  32499228888.0   \n",
      "4  computer stores|cable & internet providers, co...            nan   \n",
      "\n",
      "                        full_address  \n",
      "0                            Unknown  \n",
      "1                            Unknown  \n",
      "2  kelowna, british columbia, canada  \n",
      "3         hasselt, flanders, belgium  \n",
      "4       mississauga, ontario, canada  \n"
     ]
    }
   ],
   "source": [
    "# Check the first few rows of the cleaned dataset\n",
    "print(fourth_dataset.head())\n"
   ]
  },
  {
   "cell_type": "code",
   "execution_count": 152,
   "id": "40b1ae00-40d3-49c9-9d61-2ef728726eee",
   "metadata": {},
   "outputs": [],
   "source": [
    "fourth_dataset.to_csv('/Users/vladgarau/Downloads/datasets/fourth_dataset.csv', index=False) "
   ]
  },
  {
   "cell_type": "code",
   "execution_count": 153,
   "id": "19a29f69-8312-457f-95d7-4382a0df2389",
   "metadata": {},
   "outputs": [
    {
     "name": "stdout",
     "output_type": "stream",
     "text": [
      "                 domain                  company_name  \\\n",
      "15          10design.co   10 design - an egis company   \n",
      "16          10design.co   10 design - an egis company   \n",
      "21          1111.com.tw                       unknown   \n",
      "22          1111.com.tw                       unknown   \n",
      "39      1866wefight.com                       unknown   \n",
      "...                 ...                           ...   \n",
      "348822        zurich.ae  zurich insurance company uae   \n",
      "348825       zutari.com                       unknown   \n",
      "348826       zutari.com                       unknown   \n",
      "348827       zutari.com                       unknown   \n",
      "348828       zutari.com                       unknown   \n",
      "\n",
      "                                        category_combined          phone  \\\n",
      "15      unknown, architects & architectural services, ...  13053978694.0   \n",
      "16      unknown, architects & architectural services, ...  13053978694.0   \n",
      "21      unknown, unknown, recruitment & job listing se...        88611.0   \n",
      "22      unknown, unknown, recruitment & job listing se...        88611.0   \n",
      "39      unknown, general practice attorneys, insurance...  18669334448.0   \n",
      "...                                                   ...            ...   \n",
      "348822  banks & atms|investment consultants & financia...  97144557575.0   \n",
      "348825  business consulting|other engineering services...            nan   \n",
      "348826  business consulting|other engineering services...            nan   \n",
      "348827  business consulting|other engineering services...            nan   \n",
      "348828  business consulting|other engineering services...            nan   \n",
      "\n",
      "                              full_address  \n",
      "15                               hong kong  \n",
      "16                               hong kong  \n",
      "21             taipei, taipei city, taiwan  \n",
      "22             taipei, taipei city, taiwan  \n",
      "39                 london, ontario, canada  \n",
      "...                                    ...  \n",
      "348822  dubai, dubai, united arab emirates  \n",
      "348825     pretoria, gauteng, south africa  \n",
      "348826     pretoria, gauteng, south africa  \n",
      "348827     pretoria, gauteng, south africa  \n",
      "348828     pretoria, gauteng, south africa  \n",
      "\n",
      "[291803 rows x 5 columns]\n"
     ]
    }
   ],
   "source": [
    "# Identify duplicate rows based on the 'domain' column\n",
    "duplicates = fourth_dataset[fourth_dataset.duplicated(subset='domain', keep=False)]\n",
    "\n",
    "# Display the duplicates\n",
    "print(duplicates)\n"
   ]
  },
  {
   "cell_type": "code",
   "execution_count": 154,
   "id": "d20c1403-89c6-42a3-b500-f23359f597d7",
   "metadata": {},
   "outputs": [],
   "source": [
    "# Sort the dataset so that the rows with the most non-null values come first\n",
    "fourth_dataset = fourth_dataset.sort_values(by=['domain', 'company_name', 'category_combined', 'phone', 'full_address'], ascending=False)\n",
    "\n",
    "# Drop duplicates, keeping the row with the most non-null values\n",
    "fourth_dataset = fourth_dataset.drop_duplicates(subset='domain', keep='first')\n"
   ]
  },
  {
   "cell_type": "code",
   "execution_count": 155,
   "id": "423b36c2-28b7-468e-8baa-94634a053025",
   "metadata": {},
   "outputs": [
    {
     "name": "stdout",
     "output_type": "stream",
     "text": [
      "                    domain company_name  \\\n",
      "348837                 Â \"      alberta   \n",
      "348836             zzdp.nl      unknown   \n",
      "348835        zykode.co.za      unknown   \n",
      "348834  zyeudoreditions.ca      unknown   \n",
      "348833            zyara.ca      unknown   \n",
      "\n",
      "                                        category_combined          phone  \\\n",
      "348837                                            unknown            nan   \n",
      "348836  industrial machinery & supplies, architects & ...  31206471881.0   \n",
      "348835  unknown, office equipment & supplies, office s...  27766027137.0   \n",
      "348834  book stores|book stores|art galleries, furnitu...  14508870130.0   \n",
      "348833  middle eastern restaurants, restaurants, resta...  15145350248.0   \n",
      "\n",
      "                                 full_address  \n",
      "348837      15879834154, com, be okay massage  \n",
      "348836  amsterdam, north holland, netherlands  \n",
      "348835                                         \n",
      "348834                                         \n",
      "348833                                         \n"
     ]
    }
   ],
   "source": [
    "# Inspect the cleaned dataset\n",
    "print(fourth_dataset.head())\n"
   ]
  },
  {
   "cell_type": "code",
   "execution_count": 156,
   "id": "c910710f-5a4b-4cb8-92a9-74a2e05853bb",
   "metadata": {},
   "outputs": [],
   "source": [
    "fourth_dataset.to_csv('/Users/vladgarau/Downloads/datasets/fourth_dataset.csv', index=False)  "
   ]
  },
  {
   "cell_type": "code",
   "execution_count": 157,
   "id": "c5f51936-c98d-4b9e-86d5-3e81027e8144",
   "metadata": {},
   "outputs": [],
   "source": [
    "# I don't like how the company_name column looks like. I need to prioritize the information from facebook first"
   ]
  },
  {
   "cell_type": "code",
   "execution_count": 160,
   "id": "189707a5-0482-4cef-906f-a6dc468fec48",
   "metadata": {},
   "outputs": [
    {
     "name": "stdout",
     "output_type": "stream",
     "text": [
      "Index(['domain', 'company_name', 'category_combined', 'phone', 'full_address'], dtype='object')\n"
     ]
    }
   ],
   "source": [
    "# Replace company_name with Facebook’s Data First: I will first prioritize Facebook (company_name_fb), and then fill missing names from Google (company_name_google), and finally fall back on Website (company_name).\n",
    "\n",
    "# Replace the Values in the company_name Column: I will directly replace the company_name column in the fourth dataset with the prioritized information.\n",
    "\n",
    "\n",
    "# Check all the column names in the dataset\n",
    "print(fourth_dataset.columns)\n"
   ]
  },
  {
   "cell_type": "code",
   "execution_count": 161,
   "id": "e4d22306-50e1-48e4-860f-3ed91f9decc1",
   "metadata": {},
   "outputs": [],
   "source": [
    "# I need to re-merge the facebook data. I got lost somehow along the way. "
   ]
  },
  {
   "cell_type": "code",
   "execution_count": 164,
   "id": "6c5393ad-b9de-470f-88ae-c710fee66d4c",
   "metadata": {},
   "outputs": [],
   "source": [
    "# Add row identifier to Facebook dataset\n",
    "facebook_data['facebook_index'] = facebook_data.index\n",
    "\n",
    "# Add row identifier to Google dataset\n",
    "google_data['google_index'] = google_data.index\n",
    "\n",
    "# Add row identifier to Website dataset\n",
    "website_data['website_index'] = website_data.index\n"
   ]
  },
  {
   "cell_type": "code",
   "execution_count": 165,
   "id": "dd171239-0fd6-4e8c-be03-82a8e4e34c66",
   "metadata": {},
   "outputs": [],
   "source": [
    "# Merge Facebook and Google datasets first\n",
    "merged_fb_google = pd.merge(facebook_data, google_data, on='domain', how='outer', suffixes=('_fb', '_google'))\n"
   ]
  },
  {
   "cell_type": "code",
   "execution_count": 166,
   "id": "f9228008-b501-478e-aafb-8675fecd8668",
   "metadata": {},
   "outputs": [],
   "source": [
    "# Then merge with the Website dataset\n",
    "merged_all = pd.merge(merged_fb_google, website_data, on='domain', how='outer', suffixes=('', '_website'))\n"
   ]
  },
  {
   "cell_type": "code",
   "execution_count": 167,
   "id": "bf97e2ce-6f71-42f6-b65d-e38ab60e9726",
   "metadata": {},
   "outputs": [],
   "source": [
    "# Prioritize Facebook first, then Google, then Website for company_name\n",
    "merged_all['company_name'] = merged_all['company_name_fb'].combine_first(\n",
    "    merged_all['company_name_google']).combine_first(\n",
    "    merged_all['company_name'])\n",
    "\n",
    "# If 'company_name' is still NaN, replace with 'Unknown'\n",
    "merged_all['company_name'] = merged_all['company_name'].fillna('Unknown')\n"
   ]
  },
  {
   "cell_type": "code",
   "execution_count": 168,
   "id": "106d0ea3-8db6-4530-b992-d5d3e1697ba1",
   "metadata": {},
   "outputs": [],
   "source": [
    "# Prioritize Facebook first, then Google, then Website for phone\n",
    "merged_all['phone'] = merged_all['phone_fb'].combine_first(merged_all['phone_google']).combine_first(merged_all['phone'])\n",
    "merged_all['phone'] = merged_all['phone'].fillna('Unknown')\n",
    "\n",
    "# Prioritize Facebook first, then Google, then Website for full_address\n",
    "merged_all['full_address'] = merged_all['full_address_fb'].combine_first(merged_all['full_address_google']).combine_first(merged_all['full_address_website'])\n",
    "merged_all['full_address'] = merged_all['full_address'].fillna('Unknown')\n"
   ]
  },
  {
   "cell_type": "code",
   "execution_count": 169,
   "id": "b8d8b12c-0dc5-46b3-91ff-799d013d80b1",
   "metadata": {},
   "outputs": [
    {
     "name": "stdout",
     "output_type": "stream",
     "text": [
      "                          domain          company_name          phone  \\\n",
      "0   Mobile Pet Salon - Edmonton\"               unknown            nan   \n",
      "1                (519) 771-8508\"               unknown            nan   \n",
      "2                   007group.com  hawkeye holdings ltd  12507657007.0   \n",
      "3                    007print.be              007print  32499228888.0   \n",
      "4                   01remote.com             01 remote            nan   \n",
      "\n",
      "                        full_address  \n",
      "0                            Unknown  \n",
      "1                            Unknown  \n",
      "2  kelowna, british columbia, canada  \n",
      "3         hasselt, flanders, belgium  \n",
      "4       mississauga, ontario, canada  \n"
     ]
    }
   ],
   "source": [
    "# Review the first few rows of the cleaned dataset\n",
    "print(merged_all[['domain', 'company_name', 'phone', 'full_address']].head())\n"
   ]
  },
  {
   "cell_type": "code",
   "execution_count": 172,
   "id": "21fe04ab-2517-4d3b-b8f6-902123d95d4d",
   "metadata": {},
   "outputs": [
    {
     "name": "stdout",
     "output_type": "stream",
     "text": [
      "               domain           company_name          phone  \\\n",
      "0                 Â \"                alberta            nan   \n",
      "1             zzdp.nl       ZZDP Architecten  31206471881.0   \n",
      "2        zykode.co.za  Zykode Office Systems  27766027137.0   \n",
      "3  zyeudoreditions.ca       Zyeudor Éditions  14508870130.0   \n",
      "4            zyara.ca                  Zyara  15145350248.0   \n",
      "\n",
      "                            full_address  \n",
      "0      15879834154, com, be okay massage  \n",
      "1  amsterdam, north holland, netherlands  \n",
      "2                                         \n",
      "3                                         \n",
      "4                                         \n"
     ]
    }
   ],
   "source": [
    "# Assuming 'fourth_dataset' is already loaded and contains 'domain', 'company_name', etc.\n",
    "# Merge Facebook cleaned data with fourth_dataset using 'domain' as the key\n",
    "# Load the Facebook cleaned dataset\n",
    "\n",
    "facebook_cleaned = pd.read_csv('/Users/vladgarau/Downloads/datasets/facebook_cleaned.csv')\n",
    "\n",
    "merged_all = pd.merge(fourth_dataset, facebook_cleaned[['domain', 'name']], how='left', on='domain', suffixes=('', '_fb'))\n",
    "\n",
    "# Prioritize Facebook 'name' first, then Google, then Website for 'company_name'\n",
    "merged_all['company_name'] = merged_all['name'].combine_first(merged_all['company_name'])\n",
    "\n",
    "# Fill any remaining missing values for 'company_name' with 'Unknown'\n",
    "merged_all['company_name'] = merged_all['company_name'].fillna('Unknown')\n",
    "\n",
    "# Save the updated dataset\n",
    "merged_all.to_csv('fourth_dataset_with_facebook_priority.csv', index=False)\n",
    "\n",
    "# Check the first few rows to verify\n",
    "print(merged_all[['domain', 'company_name', 'phone', 'full_address']].head())\n"
   ]
  },
  {
   "cell_type": "code",
   "execution_count": 174,
   "id": "fd61d590-c34e-4393-adb4-42f1a46c1499",
   "metadata": {},
   "outputs": [],
   "source": [
    "# Load the Google cleaned dataset (replace with my file path)\n",
    "google_cleaned = pd.read_csv('/Users/vladgarau/Downloads/datasets/google_cleaned.csv', dtype={'address': str, 'domain': str}, low_memory=False)\n"
   ]
  },
  {
   "cell_type": "code",
   "execution_count": 175,
   "id": "7195efb3-b9eb-4053-a362-b25070ddf17a",
   "metadata": {},
   "outputs": [],
   "source": [
    "# Merge Google cleaned data with fourth_dataset using 'domain' as the key\n",
    "merged_all = pd.merge(merged_all, google_cleaned[['domain', 'address']], how='left', on='domain', suffixes=('', '_google'))\n"
   ]
  },
  {
   "cell_type": "code",
   "execution_count": 177,
   "id": "51660708-0ad1-458a-8412-45ea06f6a339",
   "metadata": {},
   "outputs": [
    {
     "name": "stdout",
     "output_type": "stream",
     "text": [
      "Index(['domain', 'company_name', 'category_combined', 'phone', 'full_address',\n",
      "       'company_name_fb', 'name', 'address'],\n",
      "      dtype='object')\n"
     ]
    }
   ],
   "source": [
    "# Check the column names after merging to see how the Google 'address' column was named\n",
    "print(merged_all.columns)\n"
   ]
  },
  {
   "cell_type": "code",
   "execution_count": 178,
   "id": "c1f1e3f7-d046-48f9-8194-eae12f566f7b",
   "metadata": {},
   "outputs": [
    {
     "name": "stdout",
     "output_type": "stream",
     "text": [
      "               domain                                            address\n",
      "0                 Â \"                                                NaN\n",
      "1             zzdp.nl   Valschermkade 37, 1059 CD Amsterdam, Netherlands\n",
      "2        zykode.co.za  103 Central Rd, Jacanlee, Randburg, 2194, Sout...\n",
      "3  zyeudoreditions.ca  1013 Rue Meunier, Saint-Jean-sur-Richelieu, QC...\n",
      "4            zyara.ca       Montreal, Quebec, Canada · In Marché Central\n"
     ]
    }
   ],
   "source": [
    "# Check if the address column from Google exists and how it was named\n",
    "print(merged_all[['domain', 'address']].head())\n"
   ]
  },
  {
   "cell_type": "code",
   "execution_count": 180,
   "id": "833b09e7-f834-4e44-a4ac-d493898f83c4",
   "metadata": {},
   "outputs": [
    {
     "name": "stdout",
     "output_type": "stream",
     "text": [
      "Index(['domain', 'company_name', 'category_combined', 'phone', 'full_address',\n",
      "       'company_name_fb', 'name', 'address'],\n",
      "      dtype='object')\n"
     ]
    }
   ],
   "source": [
    "# Check all column names in the merged dataset\n",
    "print(merged_all.columns)\n"
   ]
  },
  {
   "cell_type": "code",
   "execution_count": 182,
   "id": "e8bd65fd-6898-45e5-a697-ffe68a08b37b",
   "metadata": {},
   "outputs": [
    {
     "name": "stdout",
     "output_type": "stream",
     "text": [
      "               domain                           full_address\n",
      "0                 Â \"      15879834154, com, be okay massage\n",
      "1             zzdp.nl  amsterdam, north holland, netherlands\n",
      "2        zykode.co.za                                       \n",
      "3  zyeudoreditions.ca                                       \n",
      "4            zyara.ca                                       \n"
     ]
    }
   ],
   "source": [
    "# Check the first few rows of the full_address column in the dataset\n",
    "print(merged_all[['domain', 'full_address']].head())\n"
   ]
  },
  {
   "cell_type": "code",
   "execution_count": 5,
   "id": "fe9f0606-4a51-4edf-8613-7c40853bebc5",
   "metadata": {},
   "outputs": [],
   "source": [
    "import pandas as pd\n",
    "\n",
    "# Load the fourth dataset (replace with the correct path to my fourth dataset)\n",
    "fourth_dataset = pd.read_csv('/Users/vladgarau/Downloads/datasets/fourth_dataset.csv')\n",
    "\n",
    "# Load the Google cleaned dataset (if not already loaded)\n",
    "google_cleaned = pd.read_csv('/Users/vladgarau/Downloads/datasets/google_cleaned.csv', dtype={'address': str, 'domain': str}, low_memory=False)"
   ]
  },
  {
   "cell_type": "code",
   "execution_count": 6,
   "id": "b4446460-6998-4d2b-a703-ea098404b914",
   "metadata": {},
   "outputs": [],
   "source": [
    "# Merge Google cleaned data with the fourth dataset on 'domain'\n",
    "merged_all = pd.merge(fourth_dataset, google_cleaned[['domain', 'address']], how='left', on='domain', suffixes=('', '_google'))\n"
   ]
  },
  {
   "cell_type": "code",
   "execution_count": 8,
   "id": "2dc54f81-28b2-47c8-96a0-2a1ba0ea7337",
   "metadata": {},
   "outputs": [
    {
     "name": "stdout",
     "output_type": "stream",
     "text": [
      "Index(['domain', 'company_name', 'category_combined', 'phone', 'full_address',\n",
      "       'address'],\n",
      "      dtype='object')\n"
     ]
    }
   ],
   "source": [
    "# Print the column names after merging to see if the Google 'address' column was renamed\n",
    "print(merged_all.columns)\n"
   ]
  },
  {
   "cell_type": "code",
   "execution_count": 9,
   "id": "793f99c8-017d-451c-b0cf-6514d8adfd3a",
   "metadata": {},
   "outputs": [
    {
     "name": "stdout",
     "output_type": "stream",
     "text": [
      "               domain                                       full_address\n",
      "0                 Â \"                  15879834154, com, be okay massage\n",
      "1             zzdp.nl   Valschermkade 37, 1059 CD Amsterdam, Netherlands\n",
      "2        zykode.co.za  103 Central Rd, Jacanlee, Randburg, 2194, Sout...\n",
      "3  zyeudoreditions.ca  1013 Rue Meunier, Saint-Jean-sur-Richelieu, QC...\n",
      "4            zyara.ca       Montreal, Quebec, Canada · In Marché Central\n"
     ]
    }
   ],
   "source": [
    "# Prioritize the Google 'address' (named 'address') over the existing 'full_address'\n",
    "merged_all['full_address'] = merged_all['address'].combine_first(merged_all['full_address'])\n",
    "\n",
    "# Fill any remaining missing values for 'full_address' with 'Unknown'\n",
    "merged_all['full_address'] = merged_all['full_address'].fillna('Unknown')\n",
    "\n",
    "# Save the updated dataset\n",
    "merged_all.to_csv('fourth_dataset_with_prioritized_address.csv', index=False)\n",
    "\n",
    "# Check the first few rows to verify\n",
    "print(merged_all[['domain', 'full_address']].head())\n"
   ]
  },
  {
   "cell_type": "code",
   "execution_count": 10,
   "id": "6634acaa-cda4-48f8-a01d-4c9ed0947d32",
   "metadata": {},
   "outputs": [
    {
     "name": "stdout",
     "output_type": "stream",
     "text": [
      "                 domain                                       full_address\n",
      "0                   Â \"                  15879834154, com, be okay massage\n",
      "12433  vanburenfire.com            270115203025000030, Van Buren, IN 46991\n",
      "13943            va.gov  V89399914202000, El Paso, TX 79936, United States\n",
      "18338           ups.com     33460008900000010212220000, Newburgh, NY 12550\n",
      "22605          udel.edu        1801200282, Newark, DE 19711, United States\n"
     ]
    }
   ],
   "source": [
    "# Identify rows with potentially incorrect addresses (e.g., addresses that contain numbers only or non-standard formatting)\n",
    "incorrect_addresses = merged_all[merged_all['full_address'].str.contains(r'\\d{9,}', na=False)]\n",
    "\n",
    "# Check a few rows to identify the issue\n",
    "print(incorrect_addresses[['domain', 'full_address']].head())\n"
   ]
  },
  {
   "cell_type": "code",
   "execution_count": 11,
   "id": "0dea3ec4-18bc-4c87-a415-98fd217bc5db",
   "metadata": {},
   "outputs": [],
   "source": [
    "# Replace malformed or incomplete addresses with 'Unknown'\n",
    "merged_all['full_address'] = merged_all['full_address'].replace(r'\\d{9,}, com', 'Unknown', regex=True)\n",
    "\n",
    "# Fill any remaining missing values with 'Unknown'\n",
    "merged_all['full_address'] = merged_all['full_address'].fillna('Unknown')\n"
   ]
  },
  {
   "cell_type": "code",
   "execution_count": 13,
   "id": "611ef25e-5871-41fe-a3ef-9d8cfb7ce35c",
   "metadata": {},
   "outputs": [
    {
     "name": "stdout",
     "output_type": "stream",
     "text": [
      "               domain                                       full_address\n",
      "0                 Â \"                           Unknown, be okay massage\n",
      "1             zzdp.nl   Valschermkade 37, 1059 CD Amsterdam, Netherlands\n",
      "2        zykode.co.za  103 Central Rd, Jacanlee, Randburg, 2194, Sout...\n",
      "3  zyeudoreditions.ca  1013 Rue Meunier, Saint-Jean-sur-Richelieu, QC...\n",
      "4            zyara.ca       Montreal, Quebec, Canada · In Marché Central\n"
     ]
    }
   ],
   "source": [
    "# Save the updated and cleaned dataset\n",
    "merged_all.to_csv('fourth_dataset_with_cleaned_address.csv', index=False)\n",
    "\n",
    "# Verify the first few rows again\n",
    "print(merged_all[['domain', 'full_address']].head())\n"
   ]
  },
  {
   "cell_type": "code",
   "execution_count": 14,
   "id": "9a8f47ad-9f99-431f-9b0d-5f6f6340ee7d",
   "metadata": {},
   "outputs": [],
   "source": [
    "# Select only the key identifiers for the final dataset\n",
    "final_dataset = merged_all[['domain', 'company_name', 'category_combined', 'phone', 'full_address']]\n",
    "\n",
    "# Save the final dataset with selected columns to my local machine\n",
    "final_dataset.to_csv('fourth_dataset_key_identifiers.csv', index=False)\n"
   ]
  },
  {
   "cell_type": "code",
   "execution_count": 17,
   "id": "d242f553-857b-479e-be5a-2864d3d54e29",
   "metadata": {},
   "outputs": [],
   "source": [
    "# Save the final dataset with selected columns to my local machine\n",
    "final_dataset.to_csv('/Users/vladgarau/Downloads/datasets/final_dataset.csv', index=False)\n"
   ]
  },
  {
   "cell_type": "code",
   "execution_count": 16,
   "id": "c50dfa39-df6b-42ac-9641-f8b696bdeaa2",
   "metadata": {},
   "outputs": [],
   "source": [
    "# Remove duplicate rows based on the 'domain' column, keeping the first occurrence\n",
    "final_dataset = final_dataset.drop_duplicates(subset=['domain'], keep='first')\n"
   ]
  },
  {
   "cell_type": "code",
   "execution_count": 18,
   "id": "87286c22-bd4c-4649-9e46-17ca47815300",
   "metadata": {},
   "outputs": [],
   "source": [
    "final_dataset.to_csv('/Users/vladgarau/Downloads/datasets/final_dataset.csv', index=False)\n"
   ]
  },
  {
   "cell_type": "code",
   "execution_count": 19,
   "id": "49f5290a-d00b-4dfa-89f3-d6680a2c21dc",
   "metadata": {},
   "outputs": [
    {
     "name": "stdout",
     "output_type": "stream",
     "text": [
      "Index(['domain', 'company_name', 'category_combined', 'phone', 'full_address',\n",
      "       'address'],\n",
      "      dtype='object')\n"
     ]
    }
   ],
   "source": [
    "# Print all column names to check if 'name_fb' exists (Facebook's company name column)\n",
    "print(merged_all.columns)\n"
   ]
  },
  {
   "cell_type": "code",
   "execution_count": 21,
   "id": "db396422-957b-4bb9-bd8e-4eff5b581dba",
   "metadata": {},
   "outputs": [
    {
     "name": "stdout",
     "output_type": "stream",
     "text": [
      "Index(['domain', 'address', 'categories', 'city', 'country_code',\n",
      "       'country_name', 'description', 'email', 'link', 'name', 'page_type',\n",
      "       'phone', 'phone_country_code', 'region_code', 'region_name',\n",
      "       'zip_code'],\n",
      "      dtype='object')\n",
      "                    domain                                   name\n",
      "0       euro-hygiene-34.fr                           Euro Hygiène\n",
      "1  lakesidehomeservices.ca                 Lakeside Home Services\n",
      "2        rossiterboats.com                         Rossiter Boats\n",
      "3     caa-architecture.com  Chandler Associates Architecture Inc.\n",
      "4            apexsurety.ca           Apex Surety & Insurance Ltd.\n"
     ]
    }
   ],
   "source": [
    "# Load the Facebook cleaned dataset\n",
    "facebook_cleaned = pd.read_csv('/Users/vladgarau/Downloads/datasets/facebook_cleaned.csv')\n",
    "\n",
    "# Check if the 'name' column exists in the Facebook cleaned dataset\n",
    "print(facebook_cleaned.columns)\n",
    "\n",
    "# Check the first few rows of the Facebook dataset to confirm the data is correct\n",
    "print(facebook_cleaned[['domain', 'name']].head())\n",
    "\n"
   ]
  },
  {
   "cell_type": "code",
   "execution_count": 26,
   "id": "e847547b-0bf3-41fe-889b-6422c59262d7",
   "metadata": {},
   "outputs": [
    {
     "name": "stdout",
     "output_type": "stream",
     "text": [
      "               domain                   name company_name\n",
      "0                 Â \"                    NaN      alberta\n",
      "1             zzdp.nl       ZZDP Architecten      unknown\n",
      "2        zykode.co.za  Zykode Office Systems      unknown\n",
      "3  zyeudoreditions.ca       Zyeudor Éditions      unknown\n",
      "4            zyara.ca                  Zyara      unknown\n"
     ]
    }
   ],
   "source": [
    "# Merge Facebook data into the fourth dataset on 'domain'\n",
    "# This will bring the 'name' column from Facebook into the merged dataset\n",
    "merged_all = pd.merge(fourth_dataset, facebook_cleaned[['domain', 'name']], how='left', on='domain')\n",
    "\n",
    "# Check the first few rows to see if the Facebook 'name' has been merged correctly\n",
    "print(merged_all[['domain', 'name', 'company_name']].head())\n"
   ]
  },
  {
   "cell_type": "code",
   "execution_count": 27,
   "id": "fed29755-9579-4d41-99bf-49c87e00466b",
   "metadata": {},
   "outputs": [
    {
     "name": "stdout",
     "output_type": "stream",
     "text": [
      "               domain           company_name\n",
      "0                 Â \"                alberta\n",
      "1             zzdp.nl       ZZDP Architecten\n",
      "2        zykode.co.za  Zykode Office Systems\n",
      "3  zyeudoreditions.ca       Zyeudor Éditions\n",
      "4            zyara.ca                  Zyara\n"
     ]
    }
   ],
   "source": [
    "# Prioritize Facebook's 'name' over the existing 'company_name'\n",
    "merged_all['company_name'] = merged_all['name'].combine_first(merged_all['company_name'])\n",
    "\n",
    "# Check the result to make sure the prioritization is applied\n",
    "print(merged_all[['domain', 'company_name']].head())\n"
   ]
  },
  {
   "cell_type": "code",
   "execution_count": 28,
   "id": "064357a2-3981-47d8-baab-1d70bbff6a25",
   "metadata": {},
   "outputs": [],
   "source": [
    "# Save the updated dataset\n",
    "merged_all.to_csv('fourth_dataset_prioritized_company_name.csv', index=False)\n"
   ]
  },
  {
   "cell_type": "code",
   "execution_count": 29,
   "id": "c3b52a1c-5385-4808-95ff-e090a0a655e1",
   "metadata": {},
   "outputs": [],
   "source": [
    "# Merge Facebook data into the fourth dataset on 'domain'\n",
    "merged_all = pd.merge(fourth_dataset, facebook_cleaned[['domain', 'name']], how='left', on='domain')\n",
    "\n",
    "# Prioritize Facebook's 'name' over the existing 'company_name'\n",
    "merged_all['company_name'] = merged_all['name'].combine_first(merged_all['company_name'])\n"
   ]
  },
  {
   "cell_type": "code",
   "execution_count": 34,
   "id": "4f5e2b83-fbb1-4c07-aa30-43ea864e0717",
   "metadata": {},
   "outputs": [
    {
     "name": "stdout",
     "output_type": "stream",
     "text": [
      "Index(['domain', 'domain_suffix', 'language', 'company_name', 'city',\n",
      "       'country', 'region', 'phone', 'site_name', 'tld', 'category'],\n",
      "      dtype='object')\n",
      "                domain\n",
      "0     converterman.com\n",
      "1  clothesencounter.ca\n",
      "2       investa.com.au\n",
      "3    timminsgarage.com\n",
      "4         destinate.ca\n"
     ]
    }
   ],
   "source": [
    "# Load the website cleaned dataset (replace the file path with the correct one)\n",
    "website_cleaned = pd.read_csv('/Users/vladgarau/Downloads/datasets/website_cleaned.csv')\n",
    "\n",
    "# Check if the 'root_domain' column exists\n",
    "print(website_cleaned.columns)\n",
    "\n",
    "# Check the first few rows to confirm the data\n",
    "print(website_cleaned[['domain']].head())\n"
   ]
  },
  {
   "cell_type": "code",
   "execution_count": 35,
   "id": "67da1027-0282-48fd-98b9-304dd472ccd2",
   "metadata": {},
   "outputs": [
    {
     "name": "stdout",
     "output_type": "stream",
     "text": [
      "               domain           company_name  \\\n",
      "0                 Â \"                alberta   \n",
      "1             zzdp.nl       ZZDP Architecten   \n",
      "2        zykode.co.za  Zykode Office Systems   \n",
      "3  zyeudoreditions.ca       Zyeudor Éditions   \n",
      "4            zyara.ca                  Zyara   \n",
      "\n",
      "                                   category_combined         phone  \\\n",
      "0                                            unknown           NaN   \n",
      "1  industrial machinery & supplies, architects & ...  3.120647e+10   \n",
      "2  unknown, office equipment & supplies, office s...  2.776603e+10   \n",
      "3  book stores|book stores|art galleries, furnitu...  1.450887e+10   \n",
      "4  middle eastern restaurants, restaurants, resta...  1.514535e+10   \n",
      "\n",
      "                                        full_address  \n",
      "0                  15879834154, com, be okay massage  \n",
      "1   Valschermkade 37, 1059 CD Amsterdam, Netherlands  \n",
      "2  103 Central Rd, Jacanlee, Randburg, 2194, Sout...  \n",
      "3  1013 Rue Meunier, Saint-Jean-sur-Richelieu, QC...  \n",
      "4       Montreal, Quebec, Canada · In Marché Central  \n"
     ]
    }
   ],
   "source": [
    "# Merge Website cleaned data to prioritize 'domain' from 'website_cleaned'\n",
    "merged_all = pd.merge(merged_all, website_cleaned[['domain']], how='left', left_on='domain', right_on='domain')\n",
    "\n",
    "# Prioritize domain from 'website_cleaned' (root_domain) over the existing domain\n",
    "merged_all['domain'] = merged_all['domain'].combine_first(merged_all['domain'])\n",
    "\n",
    "# Select the required fields for the final dataset\n",
    "final_columns = ['domain', 'company_name', 'category_combined', 'phone', 'full_address']\n",
    "final_dataset = merged_all[final_columns]\n",
    "\n",
    "# Save the final dataset to a CSV file\n",
    "final_dataset.to_csv('fourth_dataset_final_with_prioritized_domain.csv', index=False)\n",
    "\n",
    "# Print the first few rows to check the result\n",
    "print(final_dataset.head())\n"
   ]
  },
  {
   "cell_type": "code",
   "execution_count": 36,
   "id": "a46c316d-82ed-4869-9d2d-32ba277b9206",
   "metadata": {},
   "outputs": [
    {
     "name": "stdout",
     "output_type": "stream",
     "text": [
      "               domain           company_name  \\\n",
      "0                 Â \"                alberta   \n",
      "1             zzdp.nl       ZZDP Architecten   \n",
      "2        zykode.co.za  Zykode Office Systems   \n",
      "3  zyeudoreditions.ca       Zyeudor Éditions   \n",
      "4            zyara.ca                  Zyara   \n",
      "\n",
      "                                   category_combined         phone  \\\n",
      "0                                            unknown           NaN   \n",
      "1  industrial machinery & supplies, architects & ...  3.120647e+10   \n",
      "2  unknown, office equipment & supplies, office s...  2.776603e+10   \n",
      "3  book stores|book stores|art galleries, furnitu...  1.450887e+10   \n",
      "4  middle eastern restaurants, restaurants, resta...  1.514535e+10   \n",
      "\n",
      "                                        full_address  \n",
      "0                  15879834154, com, be okay massage  \n",
      "1   Valschermkade 37, 1059 CD Amsterdam, Netherlands  \n",
      "2  103 Central Rd, Jacanlee, Randburg, 2194, Sout...  \n",
      "3  1013 Rue Meunier, Saint-Jean-sur-Richelieu, QC...  \n",
      "4       Montreal, Quebec, Canada · In Marché Central  \n"
     ]
    }
   ],
   "source": [
    "# Remove duplicate rows based on 'domain', keeping the first occurrence\n",
    "final_dataset_no_duplicates = final_dataset.drop_duplicates(subset=['domain'], keep='first')\n",
    "\n",
    "# Save the final dataset without duplicates\n",
    "final_dataset_no_duplicates.to_csv('fourth_dataset_final_no_duplicates.csv', index=False)\n",
    "\n",
    "# Print the first few rows to verify\n",
    "print(final_dataset_no_duplicates.head())\n"
   ]
  },
  {
   "cell_type": "code",
   "execution_count": 37,
   "id": "d5321be5-6dbf-4a07-9419-b7f5682e77c6",
   "metadata": {},
   "outputs": [],
   "source": [
    "# Save the dataset to a CSV file in my current working directory\n",
    "final_dataset_no_duplicates.to_csv('/Users/vladgarau/Downloads/datasets/fourth_dataset_final_no_duplicates.csv')\n"
   ]
  },
  {
   "cell_type": "code",
   "execution_count": 44,
   "id": "745d8e0b-1b33-4d6a-b2d0-c27111cdefb5",
   "metadata": {},
   "outputs": [],
   "source": [
    "# Drop rows where 'company_name', 'phone', and 'full_address' are all \"Unknown\"\n",
    "final_dataset_filtered = final_dataset_no_duplicates[\n",
    "    ~((final_dataset_no_duplicates['company_name'] == 'Unknown') & \n",
    "      (final_dataset_no_duplicates['phone'] == 'Unknown') & \n",
    "      (final_dataset_no_duplicates['full_address'] == 'Unknown'))\n",
    "]"
   ]
  },
  {
   "cell_type": "code",
   "execution_count": 45,
   "id": "5f6b19e1-1447-41f3-a330-aad9aafb3a6d",
   "metadata": {},
   "outputs": [
    {
     "name": "stdout",
     "output_type": "stream",
     "text": [
      "               domain           company_name  \\\n",
      "0                 Â \"                alberta   \n",
      "1             zzdp.nl       ZZDP Architecten   \n",
      "2        zykode.co.za  Zykode Office Systems   \n",
      "3  zyeudoreditions.ca       Zyeudor Éditions   \n",
      "4            zyara.ca                  Zyara   \n",
      "\n",
      "                                   category_combined         phone  \\\n",
      "0                                            unknown           NaN   \n",
      "1  industrial machinery & supplies, architects & ...  3.120647e+10   \n",
      "2  unknown, office equipment & supplies, office s...  2.776603e+10   \n",
      "3  book stores|book stores|art galleries, furnitu...  1.450887e+10   \n",
      "4  middle eastern restaurants, restaurants, resta...  1.514535e+10   \n",
      "\n",
      "                                        full_address  \n",
      "0                  15879834154, com, be okay massage  \n",
      "1   Valschermkade 37, 1059 CD Amsterdam, Netherlands  \n",
      "2  103 Central Rd, Jacanlee, Randburg, 2194, Sout...  \n",
      "3  1013 Rue Meunier, Saint-Jean-sur-Richelieu, QC...  \n",
      "4       Montreal, Quebec, Canada · In Marché Central  \n"
     ]
    }
   ],
   "source": [
    "# Save the cleaned dataset to a CSV file\n",
    "final_dataset_filtered.to_csv('fourth_dataset_cleaned.csv', index=False)\n",
    "\n",
    "# Print the first few rows to check the cleaned data\n",
    "print(final_dataset_filtered.head())\n"
   ]
  },
  {
   "cell_type": "code",
   "execution_count": 59,
   "id": "237d0cec-93a4-4d66-ae5a-3a2fede154f5",
   "metadata": {},
   "outputs": [
    {
     "name": "stdout",
     "output_type": "stream",
     "text": [
      "                    domain          company_name  \\\n",
      "348835        007group.com  Hawkeye Holdings Ltd   \n",
      "348834         007print.be              007print   \n",
      "348833        01remote.com             01 Remote   \n",
      "348832    08rotulacion.com         08 Rotulación   \n",
      "348831  1000butterflies.ca      1000 Butterflies   \n",
      "\n",
      "                                        category_combined         phone  \\\n",
      "348835  other engineering services|buses, shuttles & l...  1.250766e+10   \n",
      "348834  business consulting, construction services, co...  3.249923e+10   \n",
      "348833  computer stores|cable & internet providers, co...           NaN   \n",
      "348832  graphic design|decorators & interior designers...  3.462205e+10   \n",
      "348831  unknown, alternative therapy, alternative therapy  1.403512e+10   \n",
      "\n",
      "                                             full_address  \n",
      "348835      3396 Sexsmith Rd, Kelowna, BC V1X 7S5, Canada  \n",
      "348834  Hendrik van Veldekesingel 150/94, 3500 Hasselt...  \n",
      "348833  100 City Centre Dr, Mississauga, ON L5B 3C7, C...  \n",
      "348832  Plaza del Caño, 1, Local 1A, 28260 Galapagar, ...  \n",
      "348831     2411 Erlton Rd SW, Calgary, AB T2S 3B9, Canada  \n"
     ]
    }
   ],
   "source": [
    "# Sort the filtered dataset by 'company_name' in ascending order\n",
    "final_dataset_sorted = final_dataset_filtered.sort_values(by='domain', ascending=True)\n",
    "\n",
    "# Save the sorted dataset to a CSV file\n",
    "final_dataset_sorted.to_csv('fourth_dataset_sorted.csv', index=False)\n",
    "\n",
    "# Print the first few rows to verify the sorting\n",
    "print(final_dataset_sorted.head())"
   ]
  },
  {
   "cell_type": "code",
   "execution_count": 74,
   "id": "3db2c3b8-29a8-4bf5-ac26-4b0c76ed05e7",
   "metadata": {},
   "outputs": [
    {
     "name": "stdout",
     "output_type": "stream",
     "text": [
      "                    domain          company_name  \\\n",
      "348835        007group.com  Hawkeye Holdings Ltd   \n",
      "348834         007print.be              007print   \n",
      "348833        01remote.com             01 Remote   \n",
      "348832    08rotulacion.com         08 Rotulación   \n",
      "348831  1000butterflies.ca      1000 Butterflies   \n",
      "\n",
      "                                        category_combined         phone  \\\n",
      "348835  other engineering services|buses, shuttles & l...  1.250766e+10   \n",
      "348834  business consulting, construction services, co...  3.249923e+10   \n",
      "348833  computer stores|cable & internet providers, co...           NaN   \n",
      "348832  graphic design|decorators & interior designers...  3.462205e+10   \n",
      "348831  unknown, alternative therapy, alternative therapy  1.403512e+10   \n",
      "\n",
      "                                             full_address  \n",
      "348835      3396 Sexsmith Rd, Kelowna, BC V1X 7S5, Canada  \n",
      "348834  Hendrik van Veldekesingel 150/94, 3500 Hasselt...  \n",
      "348833  100 City Centre Dr, Mississauga, ON L5B 3C7, C...  \n",
      "348832  Plaza del Caño, 1, Local 1A, 28260 Galapagar, ...  \n",
      "348831     2411 Erlton Rd SW, Calgary, AB T2S 3B9, Canada  \n"
     ]
    }
   ],
   "source": [
    "# Remove rows where 'company_name' is 'Unknown', 'phone' is NaN, and 'full_address' is 'Unknown'\n",
    "final_dataset_filtered = final_dataset_sorted[\n",
    "    ~((final_dataset_sorted['company_name'] == 'unknown') & \n",
    "      (final_dataset_sorted['phone'].isna()) & \n",
    "      (final_dataset_sorted['full_address'] == 'Unknown'))\n",
    "]\n",
    "\n",
    "# Save the filtered and sorted dataset to a CSV file\n",
    "final_dataset_filtered.to_csv('fourth_dataset_clean_sorted.csv', index=False)\n",
    "\n",
    "# Display the first few rows of the cleaned dataset\n",
    "print(final_dataset_filtered.head())\n"
   ]
  },
  {
   "cell_type": "code",
   "execution_count": 75,
   "id": "5db9db60-c6ea-48d8-ad03-3c6e04eee567",
   "metadata": {},
   "outputs": [],
   "source": [
    "# Save the dataset to a CSV file in my current working directory\n",
    "final_dataset_filtered.to_csv('/Users/vladgarau/Downloads/datasets/final_dataset.csv')"
   ]
  },
  {
   "cell_type": "code",
   "execution_count": 73,
   "id": "db006842-df6d-4f09-aba0-7520ac122038",
   "metadata": {},
   "outputs": [],
   "source": [
    "# Save the filtered and sorted dataset to a CSV file\n",
    "filtered_data.to_csv('final_filetered_data.csv', index=False)"
   ]
  },
  {
   "cell_type": "code",
   "execution_count": 72,
   "id": "efdc9c0f-116c-49b6-b462-f122bff7fee1",
   "metadata": {},
   "outputs": [
    {
     "data": {
      "text/html": [
       "<div>\n",
       "<style scoped>\n",
       "    .dataframe tbody tr th:only-of-type {\n",
       "        vertical-align: middle;\n",
       "    }\n",
       "\n",
       "    .dataframe tbody tr th {\n",
       "        vertical-align: top;\n",
       "    }\n",
       "\n",
       "    .dataframe thead th {\n",
       "        text-align: right;\n",
       "    }\n",
       "</style>\n",
       "<table border=\"1\" class=\"dataframe\">\n",
       "  <thead>\n",
       "    <tr style=\"text-align: right;\">\n",
       "      <th></th>\n",
       "      <th>domain</th>\n",
       "      <th>company_name</th>\n",
       "      <th>category_combined</th>\n",
       "      <th>phone_x</th>\n",
       "      <th>full_address</th>\n",
       "      <th>name</th>\n",
       "      <th>phone_y</th>\n",
       "      <th>phone</th>\n",
       "      <th>address</th>\n",
       "    </tr>\n",
       "  </thead>\n",
       "  <tbody>\n",
       "    <tr>\n",
       "      <th>0</th>\n",
       "      <td>Â \"</td>\n",
       "      <td>alberta</td>\n",
       "      <td>unknown</td>\n",
       "      <td>NaN</td>\n",
       "      <td>15879834154, com, be okay massage</td>\n",
       "      <td>NaN</td>\n",
       "      <td>NaN</td>\n",
       "      <td>NaN</td>\n",
       "      <td>NaN</td>\n",
       "    </tr>\n",
       "    <tr>\n",
       "      <th>1</th>\n",
       "      <td>zzdp.nl</td>\n",
       "      <td>ZZDP Architecten</td>\n",
       "      <td>industrial machinery &amp; supplies, architects &amp; ...</td>\n",
       "      <td>3.120647e+10</td>\n",
       "      <td>Valschermkade 37, 1059 CD Amsterdam, Netherlands</td>\n",
       "      <td>ZZDP Architecten</td>\n",
       "      <td>NaN</td>\n",
       "      <td>3.120647e+10</td>\n",
       "      <td>Valschermkade 37, 1059 CD Amsterdam, Netherlands</td>\n",
       "    </tr>\n",
       "    <tr>\n",
       "      <th>2</th>\n",
       "      <td>zykode.co.za</td>\n",
       "      <td>Zykode Office Systems</td>\n",
       "      <td>unknown, office equipment &amp; supplies, office s...</td>\n",
       "      <td>2.776603e+10</td>\n",
       "      <td>103 Central Rd, Jacanlee, Randburg, 2194, Sout...</td>\n",
       "      <td>Zykode Office Systems</td>\n",
       "      <td>NaN</td>\n",
       "      <td>2.776603e+10</td>\n",
       "      <td>103 Central Rd, Jacanlee, Randburg, 2194, Sout...</td>\n",
       "    </tr>\n",
       "    <tr>\n",
       "      <th>3</th>\n",
       "      <td>zyeudoreditions.ca</td>\n",
       "      <td>Zyeudor Éditions</td>\n",
       "      <td>book stores|book stores|art galleries, furnitu...</td>\n",
       "      <td>1.450887e+10</td>\n",
       "      <td>1013 Rue Meunier, Saint-Jean-sur-Richelieu, QC...</td>\n",
       "      <td>Zyeudor Éditions</td>\n",
       "      <td>NaN</td>\n",
       "      <td>1.450887e+10</td>\n",
       "      <td>1013 Rue Meunier, Saint-Jean-sur-Richelieu, QC...</td>\n",
       "    </tr>\n",
       "    <tr>\n",
       "      <th>4</th>\n",
       "      <td>zyara.ca</td>\n",
       "      <td>Zyara</td>\n",
       "      <td>middle eastern restaurants, restaurants, resta...</td>\n",
       "      <td>1.514535e+10</td>\n",
       "      <td>Montreal, Quebec, Canada · In Marché Central</td>\n",
       "      <td>Zyara</td>\n",
       "      <td>1.514535e+10</td>\n",
       "      <td>1.514535e+10</td>\n",
       "      <td>Montreal, Quebec, Canada · In Marché Central</td>\n",
       "    </tr>\n",
       "  </tbody>\n",
       "</table>\n",
       "</div>"
      ],
      "text/plain": [
       "               domain           company_name  \\\n",
       "0                 Â \"                alberta   \n",
       "1             zzdp.nl       ZZDP Architecten   \n",
       "2        zykode.co.za  Zykode Office Systems   \n",
       "3  zyeudoreditions.ca       Zyeudor Éditions   \n",
       "4            zyara.ca                  Zyara   \n",
       "\n",
       "                                   category_combined       phone_x  \\\n",
       "0                                            unknown           NaN   \n",
       "1  industrial machinery & supplies, architects & ...  3.120647e+10   \n",
       "2  unknown, office equipment & supplies, office s...  2.776603e+10   \n",
       "3  book stores|book stores|art galleries, furnitu...  1.450887e+10   \n",
       "4  middle eastern restaurants, restaurants, resta...  1.514535e+10   \n",
       "\n",
       "                                        full_address                   name  \\\n",
       "0                  15879834154, com, be okay massage                    NaN   \n",
       "1   Valschermkade 37, 1059 CD Amsterdam, Netherlands       ZZDP Architecten   \n",
       "2  103 Central Rd, Jacanlee, Randburg, 2194, Sout...  Zykode Office Systems   \n",
       "3  1013 Rue Meunier, Saint-Jean-sur-Richelieu, QC...       Zyeudor Éditions   \n",
       "4       Montreal, Quebec, Canada · In Marché Central                  Zyara   \n",
       "\n",
       "        phone_y         phone  \\\n",
       "0           NaN           NaN   \n",
       "1           NaN  3.120647e+10   \n",
       "2           NaN  2.776603e+10   \n",
       "3           NaN  1.450887e+10   \n",
       "4  1.514535e+10  1.514535e+10   \n",
       "\n",
       "                                             address  \n",
       "0                                                NaN  \n",
       "1   Valschermkade 37, 1059 CD Amsterdam, Netherlands  \n",
       "2  103 Central Rd, Jacanlee, Randburg, 2194, Sout...  \n",
       "3  1013 Rue Meunier, Saint-Jean-sur-Richelieu, QC...  \n",
       "4       Montreal, Quebec, Canada · In Marché Central  "
      ]
     },
     "execution_count": 72,
     "metadata": {},
     "output_type": "execute_result"
    }
   ],
   "source": []
  },
  {
   "cell_type": "code",
   "execution_count": 76,
   "id": "f265391d-333d-458f-9ca1-15cf1238c8b1",
   "metadata": {},
   "outputs": [
    {
     "data": {
      "text/html": [
       "<div>\n",
       "<style scoped>\n",
       "    .dataframe tbody tr th:only-of-type {\n",
       "        vertical-align: middle;\n",
       "    }\n",
       "\n",
       "    .dataframe tbody tr th {\n",
       "        vertical-align: top;\n",
       "    }\n",
       "\n",
       "    .dataframe thead th {\n",
       "        text-align: right;\n",
       "    }\n",
       "</style>\n",
       "<table border=\"1\" class=\"dataframe\">\n",
       "  <thead>\n",
       "    <tr style=\"text-align: right;\">\n",
       "      <th></th>\n",
       "      <th>domain</th>\n",
       "      <th>company_name</th>\n",
       "      <th>category_combined</th>\n",
       "      <th>full_address</th>\n",
       "      <th>name</th>\n",
       "      <th>phone</th>\n",
       "      <th>address</th>\n",
       "    </tr>\n",
       "  </thead>\n",
       "  <tbody>\n",
       "    <tr>\n",
       "      <th>1</th>\n",
       "      <td>zzdp.nl</td>\n",
       "      <td>ZZDP Architecten</td>\n",
       "      <td>industrial machinery &amp; supplies, architects &amp; ...</td>\n",
       "      <td>Valschermkade 37, 1059 CD Amsterdam, Netherlands</td>\n",
       "      <td>ZZDP Architecten</td>\n",
       "      <td>3.120647e+10</td>\n",
       "      <td>Valschermkade 37, 1059 CD Amsterdam, Netherlands</td>\n",
       "    </tr>\n",
       "    <tr>\n",
       "      <th>2</th>\n",
       "      <td>zykode.co.za</td>\n",
       "      <td>Zykode Office Systems</td>\n",
       "      <td>unknown, office equipment &amp; supplies, office s...</td>\n",
       "      <td>103 Central Rd, Jacanlee, Randburg, 2194, Sout...</td>\n",
       "      <td>Zykode Office Systems</td>\n",
       "      <td>2.776603e+10</td>\n",
       "      <td>103 Central Rd, Jacanlee, Randburg, 2194, Sout...</td>\n",
       "    </tr>\n",
       "    <tr>\n",
       "      <th>3</th>\n",
       "      <td>zyeudoreditions.ca</td>\n",
       "      <td>Zyeudor Éditions</td>\n",
       "      <td>book stores|book stores|art galleries, furnitu...</td>\n",
       "      <td>1013 Rue Meunier, Saint-Jean-sur-Richelieu, QC...</td>\n",
       "      <td>Zyeudor Éditions</td>\n",
       "      <td>1.450887e+10</td>\n",
       "      <td>1013 Rue Meunier, Saint-Jean-sur-Richelieu, QC...</td>\n",
       "    </tr>\n",
       "    <tr>\n",
       "      <th>4</th>\n",
       "      <td>zyara.ca</td>\n",
       "      <td>Zyara</td>\n",
       "      <td>middle eastern restaurants, restaurants, resta...</td>\n",
       "      <td>Montreal, Quebec, Canada · In Marché Central</td>\n",
       "      <td>Zyara</td>\n",
       "      <td>1.514535e+10</td>\n",
       "      <td>Montreal, Quebec, Canada · In Marché Central</td>\n",
       "    </tr>\n",
       "    <tr>\n",
       "      <th>5</th>\n",
       "      <td>zwembaddeninkel.nl</td>\n",
       "      <td>Zwembad Den Inkel</td>\n",
       "      <td>unknown, sports &amp; leisure - clubs, fields &amp; pi...</td>\n",
       "      <td>Blauwhoefseweg 10, 4416 RC Kruiningen, Netherl...</td>\n",
       "      <td>Zwembad Den Inkel</td>\n",
       "      <td>3.111332e+10</td>\n",
       "      <td>Blauwhoefseweg 10, 4416 RC Kruiningen, Netherl...</td>\n",
       "    </tr>\n",
       "  </tbody>\n",
       "</table>\n",
       "</div>"
      ],
      "text/plain": [
       "               domain           company_name  \\\n",
       "1             zzdp.nl       ZZDP Architecten   \n",
       "2        zykode.co.za  Zykode Office Systems   \n",
       "3  zyeudoreditions.ca       Zyeudor Éditions   \n",
       "4            zyara.ca                  Zyara   \n",
       "5  zwembaddeninkel.nl      Zwembad Den Inkel   \n",
       "\n",
       "                                   category_combined  \\\n",
       "1  industrial machinery & supplies, architects & ...   \n",
       "2  unknown, office equipment & supplies, office s...   \n",
       "3  book stores|book stores|art galleries, furnitu...   \n",
       "4  middle eastern restaurants, restaurants, resta...   \n",
       "5  unknown, sports & leisure - clubs, fields & pi...   \n",
       "\n",
       "                                        full_address                   name  \\\n",
       "1   Valschermkade 37, 1059 CD Amsterdam, Netherlands       ZZDP Architecten   \n",
       "2  103 Central Rd, Jacanlee, Randburg, 2194, Sout...  Zykode Office Systems   \n",
       "3  1013 Rue Meunier, Saint-Jean-sur-Richelieu, QC...       Zyeudor Éditions   \n",
       "4       Montreal, Quebec, Canada · In Marché Central                  Zyara   \n",
       "5  Blauwhoefseweg 10, 4416 RC Kruiningen, Netherl...      Zwembad Den Inkel   \n",
       "\n",
       "          phone                                            address  \n",
       "1  3.120647e+10   Valschermkade 37, 1059 CD Amsterdam, Netherlands  \n",
       "2  2.776603e+10  103 Central Rd, Jacanlee, Randburg, 2194, Sout...  \n",
       "3  1.450887e+10  1013 Rue Meunier, Saint-Jean-sur-Richelieu, QC...  \n",
       "4  1.514535e+10       Montreal, Quebec, Canada · In Marché Central  \n",
       "5  3.111332e+10  Blauwhoefseweg 10, 4416 RC Kruiningen, Netherl...  "
      ]
     },
     "execution_count": 76,
     "metadata": {},
     "output_type": "execute_result"
    }
   ],
   "source": [
    "# Step 1: Remove rows where 'company_name', 'phone', or 'full_address' are 'unknown' or NaN\n",
    "cleaned_df = merged_all[\n",
    "    (merged_all['company_name'] != 'unknown') &\n",
    "    (merged_all['full_address'] != 'Unknown') &\n",
    "    (merged_all['phone'].notna())  # Make sure phone is not NaN\n",
    "]\n",
    "\n",
    "# Step 2: Drop unnecessary columns like 'phone_x' and 'phone_y'\n",
    "cleaned_df = cleaned_df.drop(columns=['phone_x', 'phone_y'], errors='ignore')\n",
    "\n",
    "# Step 3: Remove any duplicates, keeping rows with the most data\n",
    "cleaned_df = cleaned_df.drop_duplicates(subset=['domain', 'company_name', 'phone', 'full_address'])\n",
    "\n",
    "# Step 4: Export the cleaned dataset to a CSV file\n",
    "cleaned_df.to_csv('fourth_dataset_cleaned_final.csv', index=False)\n",
    "\n",
    "# Display first few rows of the cleaned data\n",
    "cleaned_df.head()"
   ]
  },
  {
   "cell_type": "code",
   "execution_count": 77,
   "id": "d58a233f-2613-443d-985b-a35464fbf290",
   "metadata": {},
   "outputs": [
    {
     "name": "stdout",
     "output_type": "stream",
     "text": [
      "               domain        company_name  \\\n",
      "332322  andcompany.ca  &Company Resto Bar   \n",
      "51808   sheerenloo.nl       's Heeren Loo   \n",
      "51807   sheerenloo.nl       's Heeren Loo   \n",
      "51806   sheerenloo.nl       's Heeren Loo   \n",
      "51805   sheerenloo.nl       's Heeren Loo   \n",
      "\n",
      "                                        category_combined       phone_x  \\\n",
      "332322  pubs & bars|restaurants, unknown, barbecue res...  1.905808e+10   \n",
      "51808   senior care and assisted living facilities|psy...  3.181100e+04   \n",
      "51807   senior care and assisted living facilities|psy...  3.181100e+04   \n",
      "51806   senior care and assisted living facilities|psy...  3.181100e+04   \n",
      "51805   senior care and assisted living facilities|psy...  3.181100e+04   \n",
      "\n",
      "                                             full_address       phone_y  \\\n",
      "332322    295 Enfield Pl, Mississauga, ON L5B 3J4, Canada  1.905808e+10   \n",
      "51808    'De Wieken 9, 4191 TS Geldermalsen, Netherlands'  3.180036e+11   \n",
      "51807       Schreursweg 63, 7531 AK Enschede, Netherlands  3.180036e+11   \n",
      "51806         Hoenderweg 15A, 3851 RZ Ermelo, Netherlands  3.180036e+11   \n",
      "51805   'Apeldoornseweg 60, 6733 SC Wekerom, Netherlands'  3.180036e+11   \n",
      "\n",
      "               phone  \n",
      "332322  1.905808e+10  \n",
      "51808   3.180036e+11  \n",
      "51807   3.180036e+11  \n",
      "51806   3.180036e+11  \n",
      "51805   3.180036e+11  \n"
     ]
    }
   ],
   "source": [
    "# Step 1: Remove rows where 'company_name', 'phone', or 'full_address' are 'unknown' or NaN\n",
    "cleaned_df = merged_all[\n",
    "    (merged_all['company_name'] != 'unknown') &\n",
    "    (merged_all['full_address'] != 'Unknown') &\n",
    "    (merged_all['phone'].notna())\n",
    "]\n",
    "\n",
    "# Step 2: Drop unnecessary columns like 'name' and 'address'\n",
    "cleaned_df = cleaned_df.drop(columns=['name', 'address'], errors='ignore')\n",
    "\n",
    "# Step 3: Remove duplicates while keeping the rows with the most information\n",
    "cleaned_df = cleaned_df.drop_duplicates(subset=['domain', 'company_name', 'category_combined', 'phone', 'full_address'], keep='first')\n",
    "\n",
    "# Step 4: Sort by company name\n",
    "cleaned_df = cleaned_df.sort_values(by='company_name')\n",
    "\n",
    "# Step 5: Export the cleaned dataset to a CSV file\n",
    "cleaned_df.to_csv('fourth_dataset_cleaned_final.csv', index=False)\n",
    "\n",
    "# Display first few rows of the cleaned data\n",
    "print(cleaned_df.head())"
   ]
  },
  {
   "cell_type": "code",
   "execution_count": 78,
   "id": "6f883559-c2ec-42c7-a524-10b324b8f128",
   "metadata": {},
   "outputs": [
    {
     "name": "stdout",
     "output_type": "stream",
     "text": [
      "               domain        company_name  \\\n",
      "332322  andcompany.ca  &Company Resto Bar   \n",
      "51808   sheerenloo.nl       's Heeren Loo   \n",
      "51807   sheerenloo.nl       's Heeren Loo   \n",
      "51806   sheerenloo.nl       's Heeren Loo   \n",
      "51805   sheerenloo.nl       's Heeren Loo   \n",
      "\n",
      "                                        category_combined  \\\n",
      "332322  pubs & bars|restaurants, unknown, barbecue res...   \n",
      "51808   senior care and assisted living facilities|psy...   \n",
      "51807   senior care and assisted living facilities|psy...   \n",
      "51806   senior care and assisted living facilities|psy...   \n",
      "51805   senior care and assisted living facilities|psy...   \n",
      "\n",
      "                                             full_address                name  \\\n",
      "332322    295 Enfield Pl, Mississauga, ON L5B 3J4, Canada  &Company Resto Bar   \n",
      "51808    'De Wieken 9, 4191 TS Geldermalsen, Netherlands'       's Heeren Loo   \n",
      "51807       Schreursweg 63, 7531 AK Enschede, Netherlands       's Heeren Loo   \n",
      "51806         Hoenderweg 15A, 3851 RZ Ermelo, Netherlands       's Heeren Loo   \n",
      "51805   'Apeldoornseweg 60, 6733 SC Wekerom, Netherlands'       's Heeren Loo   \n",
      "\n",
      "               phone                                            address  \n",
      "332322  1.905808e+10    295 Enfield Pl, Mississauga, ON L5B 3J4, Canada  \n",
      "51808   3.180036e+11   'De Wieken 9, 4191 TS Geldermalsen, Netherlands'  \n",
      "51807   3.180036e+11      Schreursweg 63, 7531 AK Enschede, Netherlands  \n",
      "51806   3.180036e+11        Hoenderweg 15A, 3851 RZ Ermelo, Netherlands  \n",
      "51805   3.180036e+11  'Apeldoornseweg 60, 6733 SC Wekerom, Netherlands'  \n"
     ]
    }
   ],
   "source": [
    "# Drop 'phone_x' and 'phone_y' and keep only the 'phone' column\n",
    "cleaned_df = merged_all.drop(columns=['phone_x', 'phone_y'], errors='ignore')\n",
    "\n",
    "# Drop rows where company_name, full_address, and phone are all 'unknown' or NaN\n",
    "cleaned_df = cleaned_df[\n",
    "    (cleaned_df['company_name'] != 'unknown') &\n",
    "    (cleaned_df['full_address'] != 'Unknown') &\n",
    "    (cleaned_df['phone'].notna())\n",
    "]\n",
    "\n",
    "# Remove duplicates while keeping the row with the most information\n",
    "cleaned_df = cleaned_df.drop_duplicates(subset=['domain', 'company_name', 'category_combined', 'phone', 'full_address'], keep='first')\n",
    "\n",
    "# Sort by 'company_name'\n",
    "cleaned_df = cleaned_df.sort_values(by='company_name')\n",
    "\n",
    "# Export the cleaned dataset to a CSV file\n",
    "cleaned_df.to_csv('fourth_dataset_cleaned_final.csv', index=False)\n",
    "\n",
    "# Display first few rows of the cleaned data\n",
    "print(cleaned_df.head())\n"
   ]
  },
  {
   "cell_type": "code",
   "execution_count": 79,
   "id": "0ec27b87-759b-4eca-8bfd-698760d84ae9",
   "metadata": {},
   "outputs": [
    {
     "name": "stdout",
     "output_type": "stream",
     "text": [
      "               domain        company_name  \\\n",
      "332322  andcompany.ca  &Company Resto Bar   \n",
      "51808   sheerenloo.nl       's Heeren Loo   \n",
      "51807   sheerenloo.nl       's Heeren Loo   \n",
      "51806   sheerenloo.nl       's Heeren Loo   \n",
      "51805   sheerenloo.nl       's Heeren Loo   \n",
      "\n",
      "                                        category_combined         phone  \\\n",
      "332322  pubs & bars|restaurants, unknown, barbecue res...   19058082112   \n",
      "51808   senior care and assisted living facilities|psy...  318003555555   \n",
      "51807   senior care and assisted living facilities|psy...  318003555555   \n",
      "51806   senior care and assisted living facilities|psy...  318003555555   \n",
      "51805   senior care and assisted living facilities|psy...  318003555555   \n",
      "\n",
      "                                             full_address  \n",
      "332322    295 Enfield Pl, Mississauga, ON L5B 3J4, Canada  \n",
      "51808    'De Wieken 9, 4191 TS Geldermalsen, Netherlands'  \n",
      "51807       Schreursweg 63, 7531 AK Enschede, Netherlands  \n",
      "51806         Hoenderweg 15A, 3851 RZ Ermelo, Netherlands  \n",
      "51805   'Apeldoornseweg 60, 6733 SC Wekerom, Netherlands'  \n"
     ]
    }
   ],
   "source": [
    "# Remove 'name' and 'address' columns\n",
    "cleaned_df = cleaned_df.drop(columns=['name', 'address'], errors='ignore')\n",
    "\n",
    "# Format phone numbers to remove scientific notation\n",
    "cleaned_df['phone'] = cleaned_df['phone'].apply(lambda x: '{:.0f}'.format(x) if pd.notnull(x) else x)\n",
    "\n",
    "# Keep only the relevant columns\n",
    "cleaned_df = cleaned_df[['domain', 'company_name', 'category_combined', 'phone', 'full_address']]\n",
    "\n",
    "# Drop duplicates to ensure the data is clean\n",
    "cleaned_df = cleaned_df.drop_duplicates()\n",
    "\n",
    "# Export the cleaned dataset to a CSV file\n",
    "cleaned_df.to_csv('fourth_dataset_cleaned_final.csv', index=False)\n",
    "\n",
    "# Display first few rows of the cleaned data\n",
    "print(cleaned_df.head())\n"
   ]
  },
  {
   "cell_type": "code",
   "execution_count": 83,
   "id": "601806ef-85eb-4b78-8add-7f642aaf2bae",
   "metadata": {},
   "outputs": [
    {
     "name": "stdout",
     "output_type": "stream",
     "text": [
      "                      domain         company_name  \\\n",
      "90705    opusartprojects.com    𝗢𝗣𝗨𝗦 𝗔𝗥𝗧 𝗣𝗥𝗢𝗝𝗘𝗖𝗧𝗦   \n",
      "51810     sheerbeautybar.com     𝓈𝒽𝑒𝑒𝓇 𝐁𝐄𝐀𝐔𝐓𝐘 𝐁𝐀𝐑   \n",
      "69958   proorganiccanada.com    𝐏𝐫𝐨𝐎𝐫𝐠𝐚𝐧𝐢𝐜 𝐂𝐚𝐧𝐚𝐝𝐚   \n",
      "342972      adorefineart.com       𝐀𝐝𝐨𝐫𝐞 𝐅𝐢𝐧𝐞 𝐀𝐫𝐭   \n",
      "100185         nhk-cul.co.jp  ＮＨＫカルチャー（ＮＨＫ文化センター）   \n",
      "\n",
      "                                        category_combined        phone  \\\n",
      "90705               art galleries, unknown, art galleries  16476896058   \n",
      "51810   unknown, spa & wellness centers, facial spa ce...  17802976201   \n",
      "69958   business consulting|window cleaning service|de...  16474090955   \n",
      "342972        art galleries, art galleries, art galleries        44811   \n",
      "100185  community center, electronical components reta...  81334751359   \n",
      "\n",
      "                                             full_address  \n",
      "90705     58b Kenilworth Ave, Toronto, ON M4L 3S5, Kanada  \n",
      "51810                                    11961 Jasper Ave  \n",
      "69958   245 Bartley Dr Unit 3, North York, ON M4A 2V8,...  \n",
      "342972  1 Allandale Rd, Stoneygate, Leicester LE2 2DA,...  \n",
      "100185  Minamiaoyama, 1 Chome−1−1 4Ｆ Aoyama Twin, 西館 ·...  \n"
     ]
    }
   ],
   "source": [
    "# Remove duplicates by keeping the row with the most complete information (non-unknown values)\n",
    "cleaned_df = cleaned_df.sort_values(by=['company_name', 'phone', 'full_address'], ascending=False).drop_duplicates(subset='domain', keep='first')\n",
    "\n",
    "# Display first few rows of the cleaned data\n",
    "print(cleaned_df.head())"
   ]
  },
  {
   "cell_type": "code",
   "execution_count": 85,
   "id": "9eb53a39-faf4-408a-b79f-d838e7bfa5a2",
   "metadata": {},
   "outputs": [],
   "source": [
    "# Sort the dataframe based on 'domain'\n",
    "sorted_df = cleaned_df.sort_values(by='domain', ascending=True)\n",
    "\n",
    "# Export the sorted dataset to a CSV file\n",
    "sorted_df.to_csv('fourth_dataset_sorted.csv', index=False)\n"
   ]
  },
  {
   "cell_type": "code",
   "execution_count": 87,
   "id": "77411d60-8be7-4318-8e6d-77630b509df1",
   "metadata": {},
   "outputs": [],
   "source": [
    "# Convert the phone column to string format to prevent scientific notation\n",
    "cleaned_df['phone'] = cleaned_df['phone'].apply(lambda x: str(int(x)) if not pd.isna(x) else 'Unknown')\n",
    "\n",
    "# Export the corrected dataset to a CSV file\n",
    "cleaned_df.to_csv('fourth_dataset_corrected.csv', index=False)\n"
   ]
  },
  {
   "cell_type": "code",
   "execution_count": null,
   "id": "7381ce7c-1a67-4b49-bd61-8d86949667f6",
   "metadata": {},
   "outputs": [],
   "source": []
  }
 ],
 "metadata": {
  "kernelspec": {
   "display_name": "Python 3 (ipykernel)",
   "language": "python",
   "name": "python3"
  },
  "language_info": {
   "codemirror_mode": {
    "name": "ipython",
    "version": 3
   },
   "file_extension": ".py",
   "mimetype": "text/x-python",
   "name": "python",
   "nbconvert_exporter": "python",
   "pygments_lexer": "ipython3",
   "version": "3.12.2"
  }
 },
 "nbformat": 4,
 "nbformat_minor": 5
}
